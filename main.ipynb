{
    "cells": [
  {
   "cell_type": "markdown",
   "metadata": {},
   "source": [
    "# Run the Tracker\n",
    "\n",
    "This jupyter notebook bundles all necessary high-level steps to train the tracker. The first step is to include all necessary modules."
   ]
  },
  {
   "cell_type": "code",
   "execution_count": null,
   "metadata": {},
   "outputs": [],
   "source": [
    "from tqdm import tqdm\n",
    "import pickle\n",
    "import sys\n",
    "import numpy as np\n",
    "from datetime import datetime\n",
    "import os\n",
    "\n",
    "sys.path.append(\"build/\")\n",
    "from cpp_utils import Simulation\n",
    "from time import time, sleep\n",
    "from python.plotter import Plotter\n",
    "from python.constants import *\n",
    "from python.accurateTracker import AccurateTracker\n",
    "from python.confidentTracker import ConfidentTracker\n",
    "from python.particleTracker import ParticleTracker\n",
    "from python.metrics import Confidence, Accuracy"
   ]
  },
  {
   "cell_type": "markdown",
   "metadata": {},
   "source": [
    "A simple 2D simulation simulates is used to generate the data of the robot perceptions. The next cells runs a new simulation to generate fresh data. The fresh data is saved by a simulation log pickle file. This cell is optional, we can also load the data from an old simulation log."
   ]
  },
  {
   "cell_type": "code",
   "execution_count": null,
   "metadata": {},
   "outputs": [],
   "source": [
    "T_simulation = 10 * 60  # 10 minutes\n",
    "\n",
    "sim = Simulation(T_step=0.1, N_humans=3, N_robots=1)\n",
    "sim_states = []\n",
    "N_minutes = int(T_simulation / 60)\n",
    "N_hours = int(T_simulation / 3600)\n",
    "pbar = tqdm(range(0, N_minutes), desc=\"Simulation\")\n",
    "for i in pbar:  # always calculate one minute at once to have C++ speedup\n",
    "    sim_states += sim.step(int(60 / sim.T_step))\n",
    "    pbar.set_postfix(\n",
    "        {\n",
    "            \"Simulated time\": \"{:d}:{:02d} of {:d}:{:02d} hours\".format(\n",
    "                int(i / 60), i % 60, int(T_simulation / 3600), int(T_simulation / 60) % 60\n",
    "            )\n",
    "        }\n",
    "    )\n",
    "\n",
    "sim_log = {\n",
    "    \"T_step\": sim.T_step,\n",
    "    \"T_simulation\": T_simulation,\n",
    "    \"N_humans\": sim.N_humans,\n",
    "    \"N_robots\": sim.N_robots,\n",
    "    \"sim_states\": sim_states,\n",
    "}\n",
    "\n",
    "filename = os.path.join(LOG_FOLDER, \"log_\" + datetime.now().strftime(\"%Y-%m-%d_%H-%M-%S\") + \".pkl\")\n",
    "with open(filename, \"wb\") as outp:\n",
    "    pickle.dump(sim_log, outp, pickle.HIGHEST_PROTOCOL)"
   ]
  },
  {
   "cell_type": "markdown",
   "metadata": {},
   "source": [
    "This cell loads the simulation data from a simulation log. If no fresh data is available, an old simulation log is loaded."
   ]
  },
  {
   "cell_type": "code",
   "execution_count": null,
   "metadata": {},
   "outputs": [],
   "source": [
    "if \"sim_log\" not in locals():\n",
    "    filename = os.path.join(LOG_FOLDER, \"log_2024-08-30_10-47-52.pkl\")\n",
    "    with open(filename, \"rb\") as f:\n",
    "        sim_log = pickle.load(f)\n",
    "sim_states = sim_log[\"sim_states\"]\n",
    "T_simulation = sim_log[\"T_simulation\"]\n",
    "T_step = sim_log[\"T_step\"]\n",
    "N_humans = sim_log[\"N_humans\"]\n",
    "N_robots = sim_log[\"N_robots\"]\n",
    "\n",
    "# load simulation object to have access to member utility functions\n",
    "sim = Simulation(T_step=T_step, N_humans=N_humans, N_robots=N_robots)"
   ]
  },
  {
   "cell_type": "markdown",
   "metadata": {},
   "source": [
    "With the simulation data loaded, the actual tracker can be loaded. The tracker is now simulated in another loop over the simulation time. The robot perceptions are just playback from the simulation log. Different Trackers can be tested by creating the tracker object from different classes."
   ]
  },
  {
   "cell_type": "code",
   "execution_count": null,
   "metadata": {},
   "outputs": [],
   "source": [
    "plot = False  # slows down loop significantly!\n",
    "record_video = False  # slows down loop even more!\n",
    "if record_video:\n",
    "    plot = True\n",
    "\n",
    "confidentTracker = ConfidentTracker(N_robots=N_robots, include_observations=True)\n",
    "accurateTracker = AccurateTracker(N_robots=N_robots, include_observations=False, train=False)\n",
    "particleTracker = ParticleTracker()\n",
    "\n",
    "if plot:\n",
    "    plotter = Plotter(record_frames=record_video)\n",
    "\n",
    "pbar = tqdm(range(0, len(sim_states)), desc=\"Simulation\")\n",
    "\n",
    "simulation_time = 0\n",
    "confidentTracker_node_probabilities = []\n",
    "accurateTracker_node_probabilities = []\n",
    "particleTracker_node_probabilities = []\n",
    "for i in pbar:\n",
    "    sim_state = sim_states[i]\n",
    "\n",
    "    # outer list: robots, inner list: perceived humans for every robot\n",
    "    robot_perceptions = [\n",
    "        {\n",
    "            \"ego_position\": agent[\"ego_position\"],\n",
    "            \"observable_nodes\": agent[\"observable_nodes\"],\n",
    "            \"perceived_humans\": agent[\"perceived_humans\"],\n",
    "        }\n",
    "        for agent in sim_state\n",
    "        if agent[\"type\"] == \"robot\"\n",
    "    ]\n",
    "\n",
    "    confidentTracker_node_probabilities.append(confidentTracker.add_observation(robot_perceptions))\n",
    "    _ = confidentTracker.predict()\n",
    "\n",
    "    accurateTracker_node_probabilities.append(accurateTracker.add_observation(robot_perceptions))\n",
    "    _ = accurateTracker.predict()\n",
    "\n",
    "    particleTracker_node_probabilities.append(particleTracker.add_observation(robot_perceptions))\n",
    "    _ = particleTracker.predict()\n",
    "\n",
    "    if plot:\n",
    "        plotter.update(sim_state, confidentTracker_node_probabilities[-1])\n",
    "\n",
    "    pbar.set_postfix(\n",
    "        {\n",
    "            \"Simulated time\": \"{:d}:{:02d} of {:d}:{:02d} hours\".format(\n",
    "                int(simulation_time / 3600),\n",
    "                int(simulation_time / 60) % 60,\n",
    "                int(T_simulation / 3600),\n",
    "                int(T_simulation / 60) % 60,\n",
    "            )\n",
    "        }\n",
    "    )\n",
    "\n",
    "    simulation_time += T_step\n",
    "\n",
    "if record_video:\n",
    "    plotter.create_video(T_step)"
   ]
  },
  {
   "cell_type": "markdown",
   "metadata": {},
   "source": [
    "The predicted node probabilites for every node (the output of the tracker) is added to the simulation log and the updated simulation log is saved again."
   ]
  },
  {
   "cell_type": "code",
   "execution_count": null,
   "metadata": {},
   "outputs": [],
   "source": [
    "# is_human_at_the_node = np.zeros((np.array(confidentTracker_node_probabilities).shape), dtype=bool)\n",
    "\n",
    "# for i, state in enumerate(sim_log['sim_states']):\n",
    "#     for agent in state:\n",
    "#         if agent['type'] == 'human':\n",
    "#             is_human_at_the_node[i, agent['belonging_node']] = True\n",
    "\n",
    "# mean_probabilities = np.mean(is_human_at_the_node, axis=0)\n",
    "# print(mean_probabilities)\n",
    "# np.savetxt(os.path.join(MODEL_PATH, 'accurateTracker_mean_probabilities.txt'), mean_probabilities)\n"
   ]
  },
  {
   "cell_type": "markdown",
   "metadata": {},
   "source": [
    "Now the performance of the tracker is evaluated using two performance metrics: Confidence and Accuracy. Both are defined as loss metrics, hence 0 is the optimal value and the larger the value is, the worse the metric is."
   ]
  },
  {
   "cell_type": "code",
   "execution_count": null,
   "metadata": {},
   "outputs": [],
   "source": [
    "confidentTracker_confidence = Confidence(sim_log, confidentTracker_node_probabilities).per_graph(\n",
    "    only_count_nodes_with_no_humans=True\n",
    ")\n",
    "accurateTracker_confidence = Confidence(sim_log, accurateTracker_node_probabilities).per_graph(\n",
    "    only_count_nodes_with_no_humans=True\n",
    ")\n",
    "particleTracker_confidence = Confidence(sim_log, particleTracker_node_probabilities).per_graph(\n",
    "    only_count_nodes_with_no_humans=True\n",
    ")\n",
    "\n",
    "confidentTracker_accuracy = Accuracy(sim_log, confidentTracker_node_probabilities).per_graph()\n",
    "accurateTracker_accuracy = Accuracy(sim_log, accurateTracker_node_probabilities).per_graph()\n",
    "particleTracker_accuracy = Accuracy(sim_log, particleTracker_node_probabilities).per_graph()\n",
    "\n",
    "\n",
    "from figures.figures import results_plot\n",
    "\n",
    "results_plot(\n",
    "    confidentTracker_confidence=confidentTracker_confidence,\n",
    "    confidentTracker_accuracy=confidentTracker_accuracy,\n",
    "    accurateTracker_confidence=accurateTracker_confidence,\n",
    "    accurateTracker_accuracy=accurateTracker_accuracy,\n",
    "    particleTracker_confidence=particleTracker_confidence,\n",
    "    particleTracker_accuracy=particleTracker_accuracy,\n",
    ")"
   ]
  }
 ],
 "metadata": {
  "kernelspec": {
   "display_name": "venv",
   "language": "python",
   "name": "python3"
  },
  "language_info": {
   "codemirror_mode": {
    "name": "ipython",
    "version": 3
   },
   "file_extension": ".py",
   "mimetype": "text/x-python",
   "name": "python",
   "nbconvert_exporter": "python",
   "pygments_lexer": "ipython3",
   "version": "3.10.12"
  }
 },
 "nbformat": 4,
 "nbformat_minor": 2
}

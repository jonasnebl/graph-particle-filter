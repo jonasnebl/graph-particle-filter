{
 "cells": [
  {
   "cell_type": "markdown",
   "metadata": {},
   "source": [
    "# Run the Tracker\n",
    "\n",
    "This jupyter notebook bundles all necessary high-level steps to train the tracker. The first step is to include all necessary modules."
   ]
  },
  {
   "cell_type": "code",
   "execution_count": null,
   "metadata": {},
   "outputs": [],
   "source": [
    "from tqdm import tqdm\n",
    "import pickle\n",
    "import sys\n",
    "import numpy as np\n",
    "from datetime import datetime\n",
    "import os\n",
    "sys.path.append('build/')\n",
    "import simulation\n",
    "from time import time, sleep\n",
    "from python.plotter import Plotter\n",
    "from python.GNNtracker import GNNTracker\n",
    "from python.constants import *\n",
    "from python.metrics import BCE"
   ]
  },
  {
   "cell_type": "markdown",
   "metadata": {},
   "source": [
    "A simple 2D simulation simulates is used to generate the data of the robot perceptions. The next cells runs a new simulation to generate fresh data. The fresh data is saved by a simulation log pickle file. This cell is optional, we can also load the data from an old simulation log."
   ]
  },
  {
   "cell_type": "code",
   "execution_count": null,
   "metadata": {},
   "outputs": [],
   "source": [
    "T_simulation = 60 * 60 * 2 # 1 hour\n",
    "\n",
    "sim = simulation.Simulation(\n",
    "    T_step=0.1, \n",
    "    N_humans=3, \n",
    "    N_robots=1\n",
    ")\n",
    "sim_states = []\n",
    "N_minutes = int(T_simulation / 60)\n",
    "N_hours = int(T_simulation / 3600)\n",
    "pbar = tqdm(range(0, N_minutes), desc='Simulation')\n",
    "for i in pbar:\n",
    "    sim_states += sim.step(int(60 / sim.T_step))\n",
    "    pbar.set_postfix(\n",
    "    {'Simulated time': '{:d}:{:02d} of {:d}:{:02d} hours'.format(\n",
    "        int(i / 60), \n",
    "        i % 60, \n",
    "        int(T_simulation / 3600), \n",
    "        int(T_simulation / 60) % 60\n",
    "    )})\n",
    "\n",
    "sim_log = {\n",
    "        'T_step': sim.T_step,\n",
    "        'T_simulation': T_simulation,\n",
    "        'N_humans': sim.N_humans,\n",
    "        'N_robots': sim.N_robots,\n",
    "        'sim_states': sim_states,\n",
    "    }\n",
    "filename = os.path.join(LOG_FOLDER, 'log_' + datetime.now().strftime(\"%Y-%m-%d_%H-%M-%S\") + '.pkl')\n",
    "with open(filename, 'wb') as outp:\n",
    "    pickle.dump(sim_log, outp, pickle.HIGHEST_PROTOCOL)\n",
    "    "
   ]
  },
  {
   "cell_type": "markdown",
   "metadata": {},
   "source": [
    "This cell loads the simulation data from a simulation log. If no fresh data is available, an old simulation log is loaded."
   ]
  },
  {
   "cell_type": "code",
   "execution_count": null,
   "metadata": {},
   "outputs": [],
   "source": [
    "if \"simulation_log\" not in locals():\n",
    "    filename = os.path.join(LOG_FOLDER, 'log_2024-08-16_20-34-51.pkl')\n",
    "    with open(filename, 'rb') as f:\n",
    "        sim_log = pickle.load(f)\n",
    "sim_states = sim_log['sim_states']\n",
    "T_simulation = sim_log['T_simulation']\n",
    "T_step = sim_log['T_step']\n",
    "N_humans = sim_log['N_humans']\n",
    "N_robots = sim_log['N_robots']\n",
    "# load simulation to have access to member utility functions\n",
    "sim = simulation.Simulation(\n",
    "    T_step=0.1, \n",
    "    N_humans=3, \n",
    "    N_robots=1\n",
    ")"
   ]
  },
  {
   "cell_type": "markdown",
   "metadata": {},
   "source": [
    "With the simulation data loaded, the actual tracker can be loaded."
   ]
  },
  {
   "cell_type": "code",
   "execution_count": null,
   "metadata": {},
   "outputs": [],
   "source": [
    "plot = True\n",
    "record_video = False\n",
    "realtime = True\n",
    "\n",
    "tracker = GNNTracker(\n",
    "    T_step=T_step,\n",
    "    train=False,\n",
    "    # use extend_perception implemented in simulation class with C++ for speedup\n",
    "    extend_perception=sim.extend_perception \n",
    ")\n",
    "\n",
    "if plot: plotter = Plotter(record_frames=record_video)\n",
    "\n",
    "pbar = tqdm(range(0, len(sim_states)), desc='Simulation')\n",
    "\n",
    "simulation_time = 0\n",
    "node_probabilities = []\n",
    "for i in pbar:\n",
    "    start = time()\n",
    "\n",
    "    sim_state = sim_states[i]\n",
    "\n",
    "    # outer list: robots, inner list: perceived humans for every robot\n",
    "    robot_perceptions = [{ \n",
    "        \"ego_position\": agent['ego_position'],\n",
    "        \"perceived_humans\": agent['perceived_humans'] \n",
    "    } for agent in sim_state if agent['type'] == 'robot']\n",
    "\n",
    "    tracker.add_observation(robot_perceptions)\n",
    "    node_probabilities.append(tracker.predict())\n",
    "\n",
    "    if plot: plotter.update(sim_state, node_probabilities[-1])    \n",
    "    \n",
    "    if realtime: sleep(max(0, T_step - (time() - start)))\n",
    "\n",
    "    pbar.set_postfix(\n",
    "        {'Simulated time': '{:d}:{:02d} of {:d}:{:02d} hours'.format(\n",
    "            int(simulation_time / 3600), \n",
    "            int(simulation_time / 60) % 60, \n",
    "            int(T_simulation / 3600), \n",
    "            int(T_simulation / 60) % 60\n",
    "        )})\n",
    "    \n",
    "    simulation_time += T_step\n",
    "\n",
    "if record_video: plotter.create_video(T_step)"
   ]
  },
  {
   "cell_type": "markdown",
   "metadata": {},
   "source": [
    "The predicted node probabilites for every node (the output of the tracker) is added to the simulation log and the updated simulation log is saved again."
   ]
  },
  {
   "cell_type": "code",
   "execution_count": null,
   "metadata": {},
   "outputs": [],
   "source": [
    "sim_log[\"node_probabilities\"] = node_probabilities\n",
    "with open(os.path.join(LOG_FOLDER, filename), 'wb') as outp:\n",
    "    pickle.dump(sim_log, outp, pickle.HIGHEST_PROTOCOL)"
   ]
  },
  {
   "cell_type": "markdown",
   "metadata": {},
   "source": [
    "Now we can benchmark the performance of our tracker."
   ]
  },
  {
   "cell_type": "code",
   "execution_count": null,
   "metadata": {},
   "outputs": [],
   "source": [
    "benchmarker = Benchmarker(sim_log)"
   ]
  }
 ],
 "metadata": {
  "kernelspec": {
   "display_name": "venv",
   "language": "python",
   "name": "python3"
  },
  "language_info": {
   "codemirror_mode": {
    "name": "ipython",
    "version": 3
   },
   "file_extension": ".py",
   "mimetype": "text/x-python",
   "name": "python",
   "nbconvert_exporter": "python",
   "pygments_lexer": "ipython3",
   "version": "3.10.12"
  }
 },
 "nbformat": 4,
 "nbformat_minor": 2
}

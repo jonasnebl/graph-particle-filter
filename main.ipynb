{
 "cells": [
  {
   "cell_type": "markdown",
   "metadata": {},
   "source": [
    "# Run the Tracker\n",
    "\n",
    "This jupyter notebook bundles all necessary high-level steps to train the tracker. The first step is to include all necessary modules."
   ]
  },
  {
   "cell_type": "code",
   "execution_count": 1,
   "metadata": {},
   "outputs": [],
   "source": [
    "from tqdm import tqdm\n",
    "import pickle\n",
    "import sys\n",
    "from datetime import datetime\n",
    "sys.path.append(\"build/\")\n",
    "from cpp_utils import Simulation, ParticleTracker\n",
    "from time import time, sleep\n",
    "from python.plotter import Plotter\n",
    "from python.constants import *\n",
    "from python.accurateTracker import AccurateTracker\n",
    "from python.confidentTracker import ConfidentTracker\n",
    "# from python.particleTracker import ParticleTracker\n",
    "from python.metrics import Confidence, Accuracy"
   ]
  },
  {
   "cell_type": "markdown",
   "metadata": {},
   "source": [
    "A simple 2D simulation simulates is used to generate the data of the robot perceptions. The next cells runs a new simulation to generate fresh data. The fresh data is saved by a simulation log pickle file. This cell is optional, we can also load the data from an old simulation log."
   ]
  },
  {
   "cell_type": "code",
   "execution_count": 2,
   "metadata": {},
   "outputs": [
    {
     "name": "stderr",
     "output_type": "stream",
     "text": [
      "Simulation: 100%|██████████| 1/1 [00:00<00:00, 77.56it/s, Simulated time=0:00 of 0:01 hours]\n"
     ]
    }
   ],
   "source": [
    "T_simulation = 1 * 60  # 10 minutes\n",
    "\n",
    "sim = Simulation(T_step=0.1, N_humans=3, N_robots=1)\n",
    "sim_states = []\n",
    "N_minutes = int(T_simulation / 60)\n",
    "N_hours = int(T_simulation / 3600)\n",
    "pbar = tqdm(range(0, N_minutes), desc=\"Simulation\")\n",
    "for i in pbar:  # always calculate one minute at once to have C++ speedup\n",
    "    sim_states += sim.step(int(60 / sim.T_step))\n",
    "    pbar.set_postfix(\n",
    "        {\n",
    "            \"Simulated time\": \"{:d}:{:02d} of {:d}:{:02d} hours\".format(\n",
    "                int(i / 60), i % 60, int(T_simulation / 3600), int(T_simulation / 60) % 60\n",
    "            )\n",
    "        }\n",
    "    )\n",
    "\n",
    "sim_log = {\n",
    "    \"T_step\": sim.T_step,\n",
    "    \"T_simulation\": T_simulation,\n",
    "    \"N_humans\": sim.N_humans,\n",
    "    \"N_robots\": sim.N_robots,\n",
    "    \"sim_states\": sim_states,\n",
    "}\n",
    "\n",
    "filename = os.path.join(LOG_FOLDER, \"log_\" + datetime.now().strftime(\"%Y-%m-%d_%H-%M-%S\") + \".pkl\")\n",
    "with open(filename, \"wb\") as outp:\n",
    "    pickle.dump(sim_log, outp, pickle.HIGHEST_PROTOCOL)"
   ]
  },
  {
   "cell_type": "markdown",
   "metadata": {},
   "source": [
    "This cell loads the simulation data from a simulation log. If no fresh data is available, an old simulation log is loaded."
   ]
  },
  {
   "cell_type": "code",
   "execution_count": 3,
   "metadata": {},
   "outputs": [],
   "source": [
    "if \"sim_log\" not in locals():\n",
    "    filename = os.path.join(LOG_FOLDER, \"log_2024-08-30_10-47-52.pkl\")\n",
    "    with open(filename, \"rb\") as f:\n",
    "        sim_log = pickle.load(f)\n",
    "sim_states = sim_log[\"sim_states\"]\n",
    "T_simulation = sim_log[\"T_simulation\"]\n",
    "T_step = sim_log[\"T_step\"]\n",
    "N_humans = sim_log[\"N_humans\"]\n",
    "N_robots = sim_log[\"N_robots\"]\n",
    "\n",
    "# load simulation object to have access to member utility functions\n",
    "sim = Simulation(T_step=T_step, N_humans=N_humans, N_robots=N_robots)"
   ]
  },
  {
   "cell_type": "markdown",
   "metadata": {},
   "source": [
    "With the simulation data loaded, the actual tracker can be loaded. The tracker is now simulated in another loop over the simulation time. The robot perceptions are just playback from the simulation log. Different Trackers can be tested by creating the tracker object from different classes."
   ]
  },
  {
   "cell_type": "code",
   "execution_count": 4,
   "metadata": {},
   "outputs": [
    {
     "name": "stderr",
     "output_type": "stream",
     "text": [
      "Simulation:   0%|          | 0/600 [00:00<?, ?it/s]invalid command name \"139782253554688process_stream_events\"\n",
      "    while executing\n",
      "\"139782253554688process_stream_events\"\n",
      "    (\"after\" script)\n",
      "can't invoke \"event\" command: application has been destroyed\n",
      "    while executing\n",
      "\"event generate $w <<ThemeChanged>>\"\n",
      "    (procedure \"ttk::ThemeChanged\" line 6)\n",
      "    invoked from within\n",
      "\"ttk::ThemeChanged\"\n",
      "Simulation:   0%|          | 1/600 [00:00<01:07,  8.86it/s, Simulated time=0:00 of 0:01 hours]"
     ]
    },
    {
     "name": "stdout",
     "output_type": "stream",
     "text": [
      "0.0014142990112304688\n",
      "0.001413106918334961\n"
     ]
    },
    {
     "name": "stderr",
     "output_type": "stream",
     "text": [
      "Simulation:   1%|          | 5/600 [00:00<00:46, 12.66it/s, Simulated time=0:00 of 0:01 hours]"
     ]
    },
    {
     "name": "stdout",
     "output_type": "stream",
     "text": [
      "0.002438068389892578\n",
      "0.0016133785247802734\n",
      "0.001425027847290039\n",
      "0.001489400863647461\n"
     ]
    },
    {
     "name": "stderr",
     "output_type": "stream",
     "text": [
      "Simulation:   2%|▏         | 9/600 [00:00<00:40, 14.58it/s, Simulated time=0:00 of 0:01 hours]"
     ]
    },
    {
     "name": "stdout",
     "output_type": "stream",
     "text": [
      "0.0014507770538330078\n",
      "0.0015282630920410156\n",
      "0.0014638900756835938\n",
      "0.001847982406616211\n"
     ]
    },
    {
     "name": "stderr",
     "output_type": "stream",
     "text": [
      "Simulation:   2%|▏         | 13/600 [00:00<00:37, 15.61it/s, Simulated time=0:00 of 0:01 hours]"
     ]
    },
    {
     "name": "stdout",
     "output_type": "stream",
     "text": [
      "0.0014657974243164062\n",
      "0.0014772415161132812\n",
      "0.001631021499633789\n",
      "0.0014190673828125\n"
     ]
    },
    {
     "name": "stderr",
     "output_type": "stream",
     "text": [
      "Simulation:   3%|▎         | 17/600 [00:01<00:34, 16.88it/s, Simulated time=0:00 of 0:01 hours]"
     ]
    },
    {
     "name": "stdout",
     "output_type": "stream",
     "text": [
      "0.0019342899322509766\n",
      "0.0014843940734863281\n",
      "0.0016412734985351562\n",
      "0.0014216899871826172\n"
     ]
    },
    {
     "name": "stderr",
     "output_type": "stream",
     "text": [
      "Simulation:   4%|▎         | 21/600 [00:01<00:33, 17.50it/s, Simulated time=0:00 of 0:01 hours]"
     ]
    },
    {
     "name": "stdout",
     "output_type": "stream",
     "text": [
      "0.0014770030975341797\n",
      "0.00144195556640625\n",
      "0.0015006065368652344\n",
      "0.001483917236328125\n"
     ]
    },
    {
     "name": "stderr",
     "output_type": "stream",
     "text": [
      "Simulation:   4%|▍         | 25/600 [00:01<00:35, 16.08it/s, Simulated time=0:00 of 0:01 hours]"
     ]
    },
    {
     "name": "stdout",
     "output_type": "stream",
     "text": [
      "0.0014905929565429688\n",
      "0.001512765884399414\n",
      "0.0016469955444335938\n",
      "0.001537322998046875\n"
     ]
    },
    {
     "name": "stderr",
     "output_type": "stream",
     "text": [
      "Simulation:   5%|▍         | 29/600 [00:01<00:33, 16.87it/s, Simulated time=0:00 of 0:01 hours]"
     ]
    },
    {
     "name": "stdout",
     "output_type": "stream",
     "text": [
      "0.0014886856079101562\n",
      "0.0015022754669189453\n",
      "0.0014302730560302734\n",
      "0.0015735626220703125\n"
     ]
    },
    {
     "name": "stderr",
     "output_type": "stream",
     "text": [
      "Simulation:   6%|▌         | 33/600 [00:02<00:33, 17.01it/s, Simulated time=0:00 of 0:01 hours]"
     ]
    },
    {
     "name": "stdout",
     "output_type": "stream",
     "text": [
      "0.002423524856567383\n",
      "0.0016815662384033203\n",
      "0.0014519691467285156\n",
      "0.0014336109161376953\n"
     ]
    },
    {
     "name": "stderr",
     "output_type": "stream",
     "text": [
      "Simulation:   6%|▌         | 37/600 [00:02<00:32, 17.38it/s, Simulated time=0:00 of 0:01 hours]"
     ]
    },
    {
     "name": "stdout",
     "output_type": "stream",
     "text": [
      "0.0014595985412597656\n",
      "0.001466989517211914\n",
      "0.0017285346984863281\n",
      "0.0014789104461669922\n"
     ]
    },
    {
     "name": "stderr",
     "output_type": "stream",
     "text": [
      "Simulation:   6%|▋         | 39/600 [00:02<00:34, 16.17it/s, Simulated time=0:00 of 0:01 hours]"
     ]
    },
    {
     "name": "stdout",
     "output_type": "stream",
     "text": [
      "0.0016815662384033203\n",
      "0.002161264419555664\n",
      "0.001470327377319336\n"
     ]
    },
    {
     "name": "stderr",
     "output_type": "stream",
     "text": [
      "Simulation:   7%|▋         | 43/600 [00:02<00:34, 16.38it/s, Simulated time=0:00 of 0:01 hours]"
     ]
    },
    {
     "name": "stdout",
     "output_type": "stream",
     "text": [
      "0.0014617443084716797\n",
      "0.0014889240264892578\n",
      "0.0014486312866210938\n",
      "0.00146484375\n"
     ]
    },
    {
     "name": "stderr",
     "output_type": "stream",
     "text": [
      "Simulation:   8%|▊         | 47/600 [00:03<00:33, 16.37it/s, Simulated time=0:00 of 0:01 hours]"
     ]
    },
    {
     "name": "stdout",
     "output_type": "stream",
     "text": [
      "0.0015249252319335938\n",
      "0.0014944076538085938\n",
      "0.0016200542449951172\n",
      "0.0014569759368896484\n"
     ]
    },
    {
     "name": "stderr",
     "output_type": "stream",
     "text": [
      "Simulation:   8%|▊         | 51/600 [00:03<00:33, 16.62it/s, Simulated time=0:00 of 0:01 hours]"
     ]
    },
    {
     "name": "stdout",
     "output_type": "stream",
     "text": [
      "0.0014772415161132812\n",
      "0.0015909671783447266\n",
      "0.0014920234680175781\n",
      "0.0014755725860595703\n"
     ]
    },
    {
     "name": "stderr",
     "output_type": "stream",
     "text": [
      "Simulation:   9%|▉         | 55/600 [00:03<00:32, 16.79it/s, Simulated time=0:00 of 0:01 hours]"
     ]
    },
    {
     "name": "stdout",
     "output_type": "stream",
     "text": [
      "0.0014696121215820312\n",
      "0.001726388931274414\n",
      "0.0014688968658447266\n",
      "0.0014770030975341797\n"
     ]
    },
    {
     "name": "stderr",
     "output_type": "stream",
     "text": [
      "Simulation:  10%|▉         | 59/600 [00:03<00:32, 16.63it/s, Simulated time=0:00 of 0:01 hours]"
     ]
    },
    {
     "name": "stdout",
     "output_type": "stream",
     "text": [
      "0.0015621185302734375\n",
      "0.0018963813781738281\n",
      "0.0015060901641845703\n",
      "0.0014374256134033203\n"
     ]
    },
    {
     "name": "stderr",
     "output_type": "stream",
     "text": [
      "Simulation:  10%|█         | 63/600 [00:03<00:32, 16.44it/s, Simulated time=0:00 of 0:01 hours]"
     ]
    },
    {
     "name": "stdout",
     "output_type": "stream",
     "text": [
      "0.0017180442810058594\n",
      "0.0015790462493896484\n",
      "0.0014576911926269531\n",
      "0.001531839370727539\n"
     ]
    },
    {
     "name": "stderr",
     "output_type": "stream",
     "text": [
      "Simulation:  11%|█         | 67/600 [00:04<00:32, 16.56it/s, Simulated time=0:00 of 0:01 hours]"
     ]
    },
    {
     "name": "stdout",
     "output_type": "stream",
     "text": [
      "0.0020766258239746094\n",
      "0.0014557838439941406\n",
      "0.0014829635620117188\n",
      "0.0018360614776611328\n"
     ]
    },
    {
     "name": "stderr",
     "output_type": "stream",
     "text": [
      "Simulation:  12%|█▏        | 71/600 [00:04<00:31, 16.90it/s, Simulated time=0:00 of 0:01 hours]"
     ]
    },
    {
     "name": "stdout",
     "output_type": "stream",
     "text": [
      "0.0015075206756591797\n",
      "0.0015034675598144531\n",
      "0.0015366077423095703\n",
      "0.0015213489532470703\n"
     ]
    },
    {
     "name": "stderr",
     "output_type": "stream",
     "text": [
      "Simulation:  12%|█▎        | 75/600 [00:04<00:30, 17.08it/s, Simulated time=0:00 of 0:01 hours]"
     ]
    },
    {
     "name": "stdout",
     "output_type": "stream",
     "text": [
      "0.0015311241149902344\n",
      "0.0015075206756591797\n",
      "0.00145721435546875\n",
      "0.0014603137969970703\n"
     ]
    },
    {
     "name": "stderr",
     "output_type": "stream",
     "text": [
      "Simulation:  13%|█▎        | 79/600 [00:04<00:30, 17.08it/s, Simulated time=0:00 of 0:01 hours]"
     ]
    },
    {
     "name": "stdout",
     "output_type": "stream",
     "text": [
      "0.00152587890625\n",
      "0.0014889240264892578\n",
      "0.0014865398406982422\n",
      "0.0014805793762207031\n"
     ]
    },
    {
     "name": "stderr",
     "output_type": "stream",
     "text": [
      "Simulation:  14%|█▍        | 83/600 [00:05<00:30, 17.16it/s, Simulated time=0:00 of 0:01 hours]"
     ]
    },
    {
     "name": "stdout",
     "output_type": "stream",
     "text": [
      "0.0016503334045410156\n",
      "0.001461029052734375\n",
      "0.0014600753784179688\n",
      "0.0016543865203857422\n"
     ]
    },
    {
     "name": "stderr",
     "output_type": "stream",
     "text": [
      "Simulation:  14%|█▍        | 87/600 [00:05<00:30, 17.06it/s, Simulated time=0:00 of 0:01 hours]"
     ]
    },
    {
     "name": "stdout",
     "output_type": "stream",
     "text": [
      "0.0015459060668945312\n",
      "0.0014667510986328125\n",
      "0.0014705657958984375\n",
      "0.001463174819946289\n"
     ]
    },
    {
     "name": "stderr",
     "output_type": "stream",
     "text": [
      "Simulation:  15%|█▌        | 91/600 [00:05<00:29, 16.98it/s, Simulated time=0:00 of 0:01 hours]"
     ]
    },
    {
     "name": "stdout",
     "output_type": "stream",
     "text": [
      "0.001493692398071289\n",
      "0.001482248306274414\n",
      "0.001491546630859375\n",
      "0.0017597675323486328\n"
     ]
    },
    {
     "name": "stderr",
     "output_type": "stream",
     "text": [
      "Simulation:  16%|█▌        | 95/600 [00:05<00:30, 16.80it/s, Simulated time=0:00 of 0:01 hours]"
     ]
    },
    {
     "name": "stdout",
     "output_type": "stream",
     "text": [
      "0.0026199817657470703\n",
      "0.0015375614166259766\n",
      "0.00150299072265625\n",
      "0.001550912857055664\n"
     ]
    },
    {
     "name": "stderr",
     "output_type": "stream",
     "text": [
      "Simulation:  16%|█▋        | 99/600 [00:06<00:29, 16.97it/s, Simulated time=0:00 of 0:01 hours]"
     ]
    },
    {
     "name": "stdout",
     "output_type": "stream",
     "text": [
      "0.00193023681640625\n",
      "0.0014934539794921875\n",
      "0.0014452934265136719\n",
      "0.0016663074493408203\n"
     ]
    },
    {
     "name": "stderr",
     "output_type": "stream",
     "text": [
      "Simulation:  17%|█▋        | 103/600 [00:06<00:29, 16.72it/s, Simulated time=0:00 of 0:01 hours]"
     ]
    },
    {
     "name": "stdout",
     "output_type": "stream",
     "text": [
      "0.0016815662384033203\n",
      "0.0015211105346679688\n",
      "0.0015501976013183594\n",
      "0.0016756057739257812\n"
     ]
    },
    {
     "name": "stderr",
     "output_type": "stream",
     "text": [
      "Simulation:  18%|█▊        | 107/600 [00:06<00:30, 16.38it/s, Simulated time=0:00 of 0:01 hours]"
     ]
    },
    {
     "name": "stdout",
     "output_type": "stream",
     "text": [
      "0.001466989517211914\n",
      "0.0016713142395019531\n",
      "0.0014770030975341797\n",
      "0.0016028881072998047\n"
     ]
    },
    {
     "name": "stderr",
     "output_type": "stream",
     "text": [
      "Simulation:  18%|█▊        | 111/600 [00:06<00:29, 16.81it/s, Simulated time=0:00 of 0:01 hours]"
     ]
    },
    {
     "name": "stdout",
     "output_type": "stream",
     "text": [
      "0.0014872550964355469\n",
      "0.0014803409576416016\n",
      "0.0015149116516113281\n",
      "0.001516103744506836\n"
     ]
    },
    {
     "name": "stderr",
     "output_type": "stream",
     "text": [
      "Simulation:  19%|█▉        | 115/600 [00:07<00:28, 17.12it/s, Simulated time=0:00 of 0:01 hours]"
     ]
    },
    {
     "name": "stdout",
     "output_type": "stream",
     "text": [
      "0.001794576644897461\n",
      "0.0014393329620361328\n",
      "0.0015184879302978516\n",
      "0.0014607906341552734\n"
     ]
    },
    {
     "name": "stderr",
     "output_type": "stream",
     "text": [
      "Simulation:  20%|█▉        | 119/600 [00:07<00:27, 17.26it/s, Simulated time=0:00 of 0:01 hours]"
     ]
    },
    {
     "name": "stdout",
     "output_type": "stream",
     "text": [
      "0.0015659332275390625\n",
      "0.0014712810516357422\n",
      "0.0014781951904296875\n",
      "0.0014467239379882812\n"
     ]
    },
    {
     "name": "stderr",
     "output_type": "stream",
     "text": [
      "Simulation:  20%|██        | 123/600 [00:07<00:27, 17.50it/s, Simulated time=0:00 of 0:01 hours]"
     ]
    },
    {
     "name": "stdout",
     "output_type": "stream",
     "text": [
      "0.0015265941619873047\n",
      "0.0014958381652832031\n",
      "0.0014576911926269531\n",
      "0.0014438629150390625\n"
     ]
    },
    {
     "name": "stderr",
     "output_type": "stream",
     "text": [
      "Simulation:  21%|██        | 127/600 [00:07<00:27, 16.90it/s, Simulated time=0:00 of 0:01 hours]"
     ]
    },
    {
     "name": "stdout",
     "output_type": "stream",
     "text": [
      "0.001491546630859375\n",
      "0.0017893314361572266\n",
      "0.001544952392578125\n",
      "0.0015065670013427734\n"
     ]
    },
    {
     "name": "stderr",
     "output_type": "stream",
     "text": [
      "Simulation:  22%|██▏       | 131/600 [00:07<00:30, 15.60it/s, Simulated time=0:00 of 0:01 hours]"
     ]
    },
    {
     "name": "stdout",
     "output_type": "stream",
     "text": [
      "0.0017611980438232422\n",
      "0.0015873908996582031\n",
      "0.0018439292907714844\n"
     ]
    },
    {
     "name": "stderr",
     "output_type": "stream",
     "text": [
      "Simulation:  22%|██▎       | 135/600 [00:08<00:28, 16.04it/s, Simulated time=0:00 of 0:01 hours]"
     ]
    },
    {
     "name": "stdout",
     "output_type": "stream",
     "text": [
      "0.001440286636352539\n",
      "0.0016276836395263672\n",
      "0.0015931129455566406\n",
      "0.0014674663543701172\n"
     ]
    },
    {
     "name": "stderr",
     "output_type": "stream",
     "text": [
      "Simulation:  23%|██▎       | 139/600 [00:08<00:27, 16.76it/s, Simulated time=0:00 of 0:01 hours]"
     ]
    },
    {
     "name": "stdout",
     "output_type": "stream",
     "text": [
      "0.0015273094177246094\n",
      "0.001438140869140625\n",
      "0.001461029052734375\n",
      "0.0014467239379882812\n"
     ]
    },
    {
     "name": "stderr",
     "output_type": "stream",
     "text": [
      "Simulation:  24%|██▎       | 141/600 [00:08<00:29, 15.59it/s, Simulated time=0:00 of 0:01 hours]"
     ]
    },
    {
     "name": "stdout",
     "output_type": "stream",
     "text": [
      "0.002610445022583008\n",
      "0.0015273094177246094\n",
      "0.001493215560913086\n"
     ]
    },
    {
     "name": "stderr",
     "output_type": "stream",
     "text": [
      "Simulation:  24%|██▍       | 145/600 [00:08<00:29, 15.48it/s, Simulated time=0:00 of 0:01 hours]"
     ]
    },
    {
     "name": "stdout",
     "output_type": "stream",
     "text": [
      "0.0014681816101074219\n",
      "0.0014710426330566406\n",
      "0.0018248558044433594\n",
      "0.0014841556549072266\n"
     ]
    },
    {
     "name": "stderr",
     "output_type": "stream",
     "text": [
      "Simulation:  25%|██▍       | 149/600 [00:09<00:28, 15.96it/s, Simulated time=0:00 of 0:01 hours]"
     ]
    },
    {
     "name": "stdout",
     "output_type": "stream",
     "text": [
      "0.0014657974243164062\n",
      "0.00156402587890625\n",
      "0.0014417171478271484\n",
      "0.0015065670013427734\n"
     ]
    },
    {
     "name": "stderr",
     "output_type": "stream",
     "text": [
      "Simulation:  26%|██▌       | 153/600 [00:09<00:26, 16.77it/s, Simulated time=0:00 of 0:01 hours]"
     ]
    },
    {
     "name": "stdout",
     "output_type": "stream",
     "text": [
      "0.0014503002166748047\n",
      "0.0015130043029785156\n",
      "0.001459360122680664\n",
      "0.001478433609008789\n"
     ]
    },
    {
     "name": "stderr",
     "output_type": "stream",
     "text": [
      "Simulation:  26%|██▌       | 157/600 [00:09<00:26, 16.86it/s, Simulated time=0:00 of 0:01 hours]"
     ]
    },
    {
     "name": "stdout",
     "output_type": "stream",
     "text": [
      "0.0024585723876953125\n",
      "0.0015225410461425781\n",
      "0.0015916824340820312\n",
      "0.001443624496459961\n"
     ]
    },
    {
     "name": "stderr",
     "output_type": "stream",
     "text": [
      "Simulation:  27%|██▋       | 161/600 [00:09<00:25, 16.93it/s, Simulated time=0:00 of 0:01 hours]"
     ]
    },
    {
     "name": "stdout",
     "output_type": "stream",
     "text": [
      "0.002280712127685547\n",
      "0.0014350414276123047\n",
      "0.0014929771423339844\n",
      "0.0019190311431884766\n"
     ]
    },
    {
     "name": "stderr",
     "output_type": "stream",
     "text": [
      "Simulation:  28%|██▊       | 165/600 [00:10<00:28, 15.17it/s, Simulated time=0:00 of 0:01 hours]"
     ]
    },
    {
     "name": "stdout",
     "output_type": "stream",
     "text": [
      "0.0022017955780029297\n",
      "0.0029244422912597656\n",
      "0.0016493797302246094\n"
     ]
    },
    {
     "name": "stderr",
     "output_type": "stream",
     "text": [
      "Simulation:  28%|██▊       | 169/600 [00:10<00:28, 15.33it/s, Simulated time=0:00 of 0:01 hours]"
     ]
    },
    {
     "name": "stdout",
     "output_type": "stream",
     "text": [
      "0.0014564990997314453\n",
      "0.002448558807373047\n",
      "0.0016684532165527344\n"
     ]
    },
    {
     "name": "stderr",
     "output_type": "stream",
     "text": [
      "Simulation:  28%|██▊       | 171/600 [00:10<00:27, 15.75it/s, Simulated time=0:00 of 0:01 hours]"
     ]
    },
    {
     "name": "stdout",
     "output_type": "stream",
     "text": [
      "0.0015516281127929688\n",
      "0.001486063003540039\n",
      "0.0014426708221435547\n",
      "0.0014777183532714844\n"
     ]
    },
    {
     "name": "stderr",
     "output_type": "stream",
     "text": [
      "Simulation:  29%|██▉       | 175/600 [00:10<00:25, 16.40it/s, Simulated time=0:00 of 0:01 hours]"
     ]
    },
    {
     "name": "stdout",
     "output_type": "stream",
     "text": [
      "0.0014870166778564453\n",
      "0.0015134811401367188\n",
      "0.001451730728149414\n",
      "0.001529693603515625\n"
     ]
    },
    {
     "name": "stderr",
     "output_type": "stream",
     "text": [
      "Simulation:  30%|██▉       | 179/600 [00:10<00:25, 16.77it/s, Simulated time=0:00 of 0:01 hours]"
     ]
    },
    {
     "name": "stdout",
     "output_type": "stream",
     "text": [
      "0.0014491081237792969\n",
      "0.0015513896942138672\n",
      "0.001554727554321289\n",
      "0.0014700889587402344\n"
     ]
    },
    {
     "name": "stderr",
     "output_type": "stream",
     "text": [
      "Simulation:  30%|███       | 183/600 [00:11<00:24, 17.05it/s, Simulated time=0:00 of 0:01 hours]"
     ]
    },
    {
     "name": "stdout",
     "output_type": "stream",
     "text": [
      "0.0015344619750976562\n",
      "0.0016095638275146484\n",
      "0.0014445781707763672\n",
      "0.0015096664428710938\n"
     ]
    },
    {
     "name": "stderr",
     "output_type": "stream",
     "text": [
      "Simulation:  31%|███       | 187/600 [00:11<00:24, 17.08it/s, Simulated time=0:00 of 0:01 hours]"
     ]
    },
    {
     "name": "stdout",
     "output_type": "stream",
     "text": [
      "0.0028526782989501953\n",
      "0.00145721435546875\n",
      "0.0014467239379882812\n",
      "0.0014390945434570312\n"
     ]
    },
    {
     "name": "stderr",
     "output_type": "stream",
     "text": [
      "Simulation:  32%|███▏      | 191/600 [00:11<00:23, 17.10it/s, Simulated time=0:00 of 0:01 hours]"
     ]
    },
    {
     "name": "stdout",
     "output_type": "stream",
     "text": [
      "0.0014655590057373047\n",
      "0.0018229484558105469\n",
      "0.00154876708984375\n",
      "0.0019288063049316406\n"
     ]
    },
    {
     "name": "stderr",
     "output_type": "stream",
     "text": [
      "Simulation:  32%|███▎      | 195/600 [00:11<00:24, 16.80it/s, Simulated time=0:00 of 0:01 hours]"
     ]
    },
    {
     "name": "stdout",
     "output_type": "stream",
     "text": [
      "0.0015323162078857422\n",
      "0.0014431476593017578\n",
      "0.0014350414276123047\n",
      "0.0015285015106201172\n"
     ]
    },
    {
     "name": "stderr",
     "output_type": "stream",
     "text": [
      "Simulation:  33%|███▎      | 199/600 [00:12<00:23, 16.95it/s, Simulated time=0:00 of 0:01 hours]"
     ]
    },
    {
     "name": "stdout",
     "output_type": "stream",
     "text": [
      "0.0014832019805908203\n",
      "0.0014767646789550781\n",
      "0.0015034675598144531\n",
      "0.0018634796142578125\n"
     ]
    },
    {
     "name": "stderr",
     "output_type": "stream",
     "text": [
      "Simulation:  34%|███▍      | 203/600 [00:12<00:23, 16.89it/s, Simulated time=0:00 of 0:01 hours]"
     ]
    },
    {
     "name": "stdout",
     "output_type": "stream",
     "text": [
      "0.0014412403106689453\n",
      "0.0014376640319824219\n",
      "0.0014920234680175781\n",
      "0.0015554428100585938\n"
     ]
    },
    {
     "name": "stderr",
     "output_type": "stream",
     "text": [
      "Simulation:  34%|███▍      | 207/600 [00:12<00:23, 17.05it/s, Simulated time=0:00 of 0:01 hours]"
     ]
    },
    {
     "name": "stdout",
     "output_type": "stream",
     "text": [
      "0.001477956771850586\n",
      "0.001444101333618164\n",
      "0.0014460086822509766\n",
      "0.00144195556640625\n"
     ]
    },
    {
     "name": "stderr",
     "output_type": "stream",
     "text": [
      "Simulation:  35%|███▌      | 211/600 [00:12<00:23, 16.59it/s, Simulated time=0:00 of 0:01 hours]"
     ]
    },
    {
     "name": "stdout",
     "output_type": "stream",
     "text": [
      "0.0014541149139404297\n",
      "0.0018198490142822266\n",
      "0.0015420913696289062\n",
      "0.0014774799346923828\n"
     ]
    },
    {
     "name": "stderr",
     "output_type": "stream",
     "text": [
      "Simulation:  36%|███▌      | 215/600 [00:13<00:23, 16.71it/s, Simulated time=0:00 of 0:01 hours]"
     ]
    },
    {
     "name": "stdout",
     "output_type": "stream",
     "text": [
      "0.0014786720275878906\n",
      "0.0014600753784179688\n",
      "0.0014524459838867188\n",
      "0.0015003681182861328\n"
     ]
    },
    {
     "name": "stderr",
     "output_type": "stream",
     "text": [
      "Simulation:  36%|███▋      | 219/600 [00:13<00:22, 17.01it/s, Simulated time=0:00 of 0:01 hours]"
     ]
    },
    {
     "name": "stdout",
     "output_type": "stream",
     "text": [
      "0.0016999244689941406\n",
      "0.0015265941619873047\n",
      "0.0014476776123046875\n",
      "0.0018835067749023438\n"
     ]
    },
    {
     "name": "stderr",
     "output_type": "stream",
     "text": [
      "Simulation:  37%|███▋      | 223/600 [00:13<00:21, 17.33it/s, Simulated time=0:00 of 0:01 hours]"
     ]
    },
    {
     "name": "stdout",
     "output_type": "stream",
     "text": [
      "0.0014472007751464844\n",
      "0.0016694068908691406\n",
      "0.0014691352844238281\n",
      "0.001474618911743164\n"
     ]
    },
    {
     "name": "stderr",
     "output_type": "stream",
     "text": [
      "Simulation:  38%|███▊      | 227/600 [00:13<00:21, 17.59it/s, Simulated time=0:00 of 0:01 hours]"
     ]
    },
    {
     "name": "stdout",
     "output_type": "stream",
     "text": [
      "0.001508951187133789\n",
      "0.0015349388122558594\n",
      "0.0015075206756591797\n",
      "0.00145721435546875\n"
     ]
    },
    {
     "name": "stderr",
     "output_type": "stream",
     "text": [
      "Simulation:  38%|███▊      | 231/600 [00:13<00:20, 18.02it/s, Simulated time=0:00 of 0:01 hours]"
     ]
    },
    {
     "name": "stdout",
     "output_type": "stream",
     "text": [
      "0.0015289783477783203\n",
      "0.0014557838439941406\n",
      "0.0015332698822021484\n",
      "0.0014412403106689453\n"
     ]
    },
    {
     "name": "stderr",
     "output_type": "stream",
     "text": [
      "Simulation:  39%|███▉      | 235/600 [00:14<00:19, 18.31it/s, Simulated time=0:00 of 0:01 hours]"
     ]
    },
    {
     "name": "stdout",
     "output_type": "stream",
     "text": [
      "0.0015802383422851562\n",
      "0.001481771469116211\n",
      "0.001459360122680664\n",
      "0.0016422271728515625\n"
     ]
    },
    {
     "name": "stderr",
     "output_type": "stream",
     "text": [
      "Simulation:  40%|███▉      | 239/600 [00:14<00:20, 17.58it/s, Simulated time=0:00 of 0:01 hours]"
     ]
    },
    {
     "name": "stdout",
     "output_type": "stream",
     "text": [
      "0.0015506744384765625\n",
      "0.0016193389892578125\n",
      "0.0018076896667480469\n",
      "0.0016927719116210938\n"
     ]
    },
    {
     "name": "stderr",
     "output_type": "stream",
     "text": [
      "Simulation:  40%|████      | 243/600 [00:14<00:20, 17.65it/s, Simulated time=0:00 of 0:01 hours]"
     ]
    },
    {
     "name": "stdout",
     "output_type": "stream",
     "text": [
      "0.001573324203491211\n",
      "0.0014522075653076172\n",
      "0.0014429092407226562\n",
      "0.0014429092407226562\n"
     ]
    },
    {
     "name": "stderr",
     "output_type": "stream",
     "text": [
      "Simulation:  41%|████      | 247/600 [00:14<00:20, 17.62it/s, Simulated time=0:00 of 0:01 hours]"
     ]
    },
    {
     "name": "stdout",
     "output_type": "stream",
     "text": [
      "0.0016579627990722656\n",
      "0.0014598369598388672\n",
      "0.001497030258178711\n",
      "0.001547098159790039\n"
     ]
    },
    {
     "name": "stderr",
     "output_type": "stream",
     "text": [
      "Simulation:  42%|████▏     | 251/600 [00:15<00:22, 15.72it/s, Simulated time=0:00 of 0:01 hours]"
     ]
    },
    {
     "name": "stdout",
     "output_type": "stream",
     "text": [
      "0.002256631851196289\n",
      "0.0018298625946044922\n",
      "0.0014967918395996094\n"
     ]
    },
    {
     "name": "stderr",
     "output_type": "stream",
     "text": [
      "Simulation:  42%|████▎     | 255/600 [00:15<00:21, 16.43it/s, Simulated time=0:00 of 0:01 hours]"
     ]
    },
    {
     "name": "stdout",
     "output_type": "stream",
     "text": [
      "0.00147247314453125\n",
      "0.0014743804931640625\n",
      "0.0015168190002441406\n",
      "0.0014450550079345703\n"
     ]
    },
    {
     "name": "stderr",
     "output_type": "stream",
     "text": [
      "Simulation:  43%|████▎     | 259/600 [00:15<00:20, 16.74it/s, Simulated time=0:00 of 0:01 hours]"
     ]
    },
    {
     "name": "stdout",
     "output_type": "stream",
     "text": [
      "0.0015347003936767578\n",
      "0.0015058517456054688\n",
      "0.001514434814453125\n",
      "0.0015022754669189453\n"
     ]
    },
    {
     "name": "stderr",
     "output_type": "stream",
     "text": [
      "Simulation:  44%|████▍     | 263/600 [00:15<00:19, 17.35it/s, Simulated time=0:00 of 0:01 hours]"
     ]
    },
    {
     "name": "stdout",
     "output_type": "stream",
     "text": [
      "0.0015690326690673828\n",
      "0.0016274452209472656\n",
      "0.0014579296112060547\n",
      "0.001451730728149414\n"
     ]
    },
    {
     "name": "stderr",
     "output_type": "stream",
     "text": [
      "Simulation:  44%|████▍     | 267/600 [00:16<00:18, 17.92it/s, Simulated time=0:00 of 0:01 hours]"
     ]
    },
    {
     "name": "stdout",
     "output_type": "stream",
     "text": [
      "0.0019147396087646484\n",
      "0.0017838478088378906\n",
      "0.0014941692352294922\n",
      "0.0014891624450683594\n"
     ]
    },
    {
     "name": "stderr",
     "output_type": "stream",
     "text": [
      "Simulation:  45%|████▌     | 271/600 [00:16<00:18, 18.13it/s, Simulated time=0:00 of 0:01 hours]"
     ]
    },
    {
     "name": "stdout",
     "output_type": "stream",
     "text": [
      "0.0014674663543701172\n",
      "0.0020792484283447266\n",
      "0.0015571117401123047\n",
      "0.0015077590942382812\n"
     ]
    },
    {
     "name": "stderr",
     "output_type": "stream",
     "text": [
      "Simulation:  46%|████▌     | 275/600 [00:16<00:18, 18.04it/s, Simulated time=0:00 of 0:01 hours]"
     ]
    },
    {
     "name": "stdout",
     "output_type": "stream",
     "text": [
      "0.001474142074584961\n",
      "0.001519918441772461\n",
      "0.0014584064483642578\n",
      "0.0016255378723144531\n"
     ]
    },
    {
     "name": "stderr",
     "output_type": "stream",
     "text": [
      "Simulation:  46%|████▋     | 279/600 [00:16<00:17, 18.11it/s, Simulated time=0:00 of 0:01 hours]"
     ]
    },
    {
     "name": "stdout",
     "output_type": "stream",
     "text": [
      "0.0017116069793701172\n",
      "0.0015385150909423828\n",
      "0.0015184879302978516\n",
      "0.0014319419860839844\n"
     ]
    },
    {
     "name": "stderr",
     "output_type": "stream",
     "text": [
      "Simulation:  47%|████▋     | 283/600 [00:16<00:17, 18.17it/s, Simulated time=0:00 of 0:01 hours]"
     ]
    },
    {
     "name": "stdout",
     "output_type": "stream",
     "text": [
      "0.0014500617980957031\n",
      "0.0014581680297851562\n",
      "0.0014488697052001953\n",
      "0.0014314651489257812\n"
     ]
    },
    {
     "name": "stderr",
     "output_type": "stream",
     "text": [
      "Simulation:  48%|████▊     | 287/600 [00:17<00:17, 18.14it/s, Simulated time=0:00 of 0:01 hours]"
     ]
    },
    {
     "name": "stdout",
     "output_type": "stream",
     "text": [
      "0.0015268325805664062\n",
      "0.0014920234680175781\n",
      "0.0015265941619873047\n",
      "0.0015392303466796875\n"
     ]
    },
    {
     "name": "stderr",
     "output_type": "stream",
     "text": [
      "Simulation:  48%|████▊     | 291/600 [00:17<00:17, 17.68it/s, Simulated time=0:00 of 0:01 hours]"
     ]
    },
    {
     "name": "stdout",
     "output_type": "stream",
     "text": [
      "0.0014982223510742188\n",
      "0.0018165111541748047\n",
      "0.0014684200286865234\n",
      "0.0014793872833251953\n"
     ]
    },
    {
     "name": "stderr",
     "output_type": "stream",
     "text": [
      "Simulation:  49%|████▉     | 295/600 [00:17<00:17, 17.76it/s, Simulated time=0:00 of 0:01 hours]"
     ]
    },
    {
     "name": "stdout",
     "output_type": "stream",
     "text": [
      "0.001844167709350586\n",
      "0.001455545425415039\n",
      "0.0014870166778564453\n",
      "0.0014731884002685547\n"
     ]
    },
    {
     "name": "stderr",
     "output_type": "stream",
     "text": [
      "Simulation:  50%|████▉     | 299/600 [00:17<00:16, 17.86it/s, Simulated time=0:00 of 0:01 hours]"
     ]
    },
    {
     "name": "stdout",
     "output_type": "stream",
     "text": [
      "0.0014858245849609375\n",
      "0.0015566349029541016\n",
      "0.0014600753784179688\n",
      "0.0015261173248291016\n"
     ]
    },
    {
     "name": "stderr",
     "output_type": "stream",
     "text": [
      "Simulation:  50%|█████     | 301/600 [00:18<00:17, 16.98it/s, Simulated time=0:00 of 0:01 hours]"
     ]
    },
    {
     "name": "stdout",
     "output_type": "stream",
     "text": [
      "0.0015649795532226562\n",
      "0.0018906593322753906\n",
      "0.0027513504028320312\n"
     ]
    },
    {
     "name": "stderr",
     "output_type": "stream",
     "text": [
      "Simulation:  51%|█████     | 305/600 [00:18<00:17, 16.69it/s, Simulated time=0:00 of 0:01 hours]"
     ]
    },
    {
     "name": "stdout",
     "output_type": "stream",
     "text": [
      "0.0014355182647705078\n",
      "0.0014698505401611328\n",
      "0.0014386177062988281\n",
      "0.001453399658203125\n"
     ]
    },
    {
     "name": "stderr",
     "output_type": "stream",
     "text": [
      "Simulation:  52%|█████▏    | 309/600 [00:18<00:17, 17.09it/s, Simulated time=0:00 of 0:01 hours]"
     ]
    },
    {
     "name": "stdout",
     "output_type": "stream",
     "text": [
      "0.002491474151611328\n",
      "0.0017743110656738281\n",
      "0.0014519691467285156\n",
      "0.0015285015106201172\n"
     ]
    },
    {
     "name": "stderr",
     "output_type": "stream",
     "text": [
      "Simulation:  52%|█████▏    | 313/600 [00:18<00:16, 17.26it/s, Simulated time=0:00 of 0:01 hours]"
     ]
    },
    {
     "name": "stdout",
     "output_type": "stream",
     "text": [
      "0.0014560222625732422\n",
      "0.0019083023071289062\n",
      "0.0014324188232421875\n",
      "0.0016522407531738281\n"
     ]
    },
    {
     "name": "stderr",
     "output_type": "stream",
     "text": [
      "Simulation:  53%|█████▎    | 317/600 [00:18<00:16, 17.63it/s, Simulated time=0:00 of 0:01 hours]"
     ]
    },
    {
     "name": "stdout",
     "output_type": "stream",
     "text": [
      "0.0018124580383300781\n",
      "0.0015418529510498047\n",
      "0.0014414787292480469\n",
      "0.0014667510986328125\n"
     ]
    },
    {
     "name": "stderr",
     "output_type": "stream",
     "text": [
      "Simulation:  54%|█████▎    | 321/600 [00:19<00:15, 18.00it/s, Simulated time=0:00 of 0:01 hours]"
     ]
    },
    {
     "name": "stdout",
     "output_type": "stream",
     "text": [
      "0.0015311241149902344\n",
      "0.0014410018920898438\n",
      "0.0014417171478271484\n",
      "0.0014386177062988281\n"
     ]
    },
    {
     "name": "stderr",
     "output_type": "stream",
     "text": [
      "Simulation:  54%|█████▍    | 325/600 [00:19<00:15, 17.91it/s, Simulated time=0:00 of 0:01 hours]"
     ]
    },
    {
     "name": "stdout",
     "output_type": "stream",
     "text": [
      "0.0016896724700927734\n",
      "0.001554727554321289\n",
      "0.0016283988952636719\n",
      "0.001468658447265625\n"
     ]
    },
    {
     "name": "stderr",
     "output_type": "stream",
     "text": [
      "Simulation:  55%|█████▍    | 329/600 [00:19<00:17, 15.84it/s, Simulated time=0:00 of 0:01 hours]"
     ]
    },
    {
     "name": "stdout",
     "output_type": "stream",
     "text": [
      "0.0015323162078857422\n",
      "0.0018057823181152344\n",
      "0.0016467571258544922\n"
     ]
    },
    {
     "name": "stderr",
     "output_type": "stream",
     "text": [
      "Simulation:  56%|█████▌    | 333/600 [00:19<00:16, 16.48it/s, Simulated time=0:00 of 0:01 hours]"
     ]
    },
    {
     "name": "stdout",
     "output_type": "stream",
     "text": [
      "0.0015249252319335938\n",
      "0.0015366077423095703\n",
      "0.0015287399291992188\n",
      "0.0014891624450683594\n"
     ]
    },
    {
     "name": "stderr",
     "output_type": "stream",
     "text": [
      "Simulation:  56%|█████▌    | 337/600 [00:20<00:15, 17.19it/s, Simulated time=0:00 of 0:01 hours]"
     ]
    },
    {
     "name": "stdout",
     "output_type": "stream",
     "text": [
      "0.0014698505401611328\n",
      "0.0018796920776367188\n",
      "0.001455545425415039\n",
      "0.0014777183532714844\n"
     ]
    },
    {
     "name": "stderr",
     "output_type": "stream",
     "text": [
      "Simulation:  57%|█████▋    | 341/600 [00:20<00:14, 17.51it/s, Simulated time=0:00 of 0:01 hours]"
     ]
    },
    {
     "name": "stdout",
     "output_type": "stream",
     "text": [
      "0.0018117427825927734\n",
      "0.0014789104461669922\n",
      "0.00148773193359375\n",
      "0.0015099048614501953\n"
     ]
    },
    {
     "name": "stderr",
     "output_type": "stream",
     "text": [
      "Simulation:  57%|█████▊    | 345/600 [00:20<00:14, 17.95it/s, Simulated time=0:00 of 0:01 hours]"
     ]
    },
    {
     "name": "stdout",
     "output_type": "stream",
     "text": [
      "0.0022172927856445312\n",
      "0.0014412403106689453\n",
      "0.0014579296112060547\n",
      "0.001481771469116211\n"
     ]
    },
    {
     "name": "stderr",
     "output_type": "stream",
     "text": [
      "Simulation:  58%|█████▊    | 349/600 [00:20<00:14, 17.30it/s, Simulated time=0:00 of 0:01 hours]"
     ]
    },
    {
     "name": "stdout",
     "output_type": "stream",
     "text": [
      "0.0015201568603515625\n",
      "0.0016870498657226562\n",
      "0.0016274452209472656\n",
      "0.0014660358428955078\n"
     ]
    },
    {
     "name": "stderr",
     "output_type": "stream",
     "text": [
      "Simulation:  59%|█████▉    | 353/600 [00:20<00:14, 17.33it/s, Simulated time=0:00 of 0:01 hours]"
     ]
    },
    {
     "name": "stdout",
     "output_type": "stream",
     "text": [
      "0.0014922618865966797\n",
      "0.001491546630859375\n",
      "0.0014722347259521484\n",
      "0.0014607906341552734\n"
     ]
    },
    {
     "name": "stderr",
     "output_type": "stream",
     "text": [
      "Simulation:  60%|█████▉    | 357/600 [00:21<00:14, 17.27it/s, Simulated time=0:00 of 0:01 hours]"
     ]
    },
    {
     "name": "stdout",
     "output_type": "stream",
     "text": [
      "0.0024652481079101562\n",
      "0.0014748573303222656\n",
      "0.0014393329620361328\n",
      "0.0014851093292236328\n"
     ]
    },
    {
     "name": "stderr",
     "output_type": "stream",
     "text": [
      "Simulation:  60%|██████    | 361/600 [00:21<00:13, 17.44it/s, Simulated time=0:00 of 0:01 hours]"
     ]
    },
    {
     "name": "stdout",
     "output_type": "stream",
     "text": [
      "0.0014672279357910156\n",
      "0.0014994144439697266\n",
      "0.001440286636352539\n",
      "0.001470327377319336\n"
     ]
    },
    {
     "name": "stderr",
     "output_type": "stream",
     "text": [
      "Simulation:  61%|██████    | 365/600 [00:21<00:13, 16.90it/s, Simulated time=0:00 of 0:01 hours]"
     ]
    },
    {
     "name": "stdout",
     "output_type": "stream",
     "text": [
      "0.0027015209197998047\n",
      "0.0014505386352539062\n",
      "0.0016872882843017578\n",
      "0.0014450550079345703\n"
     ]
    },
    {
     "name": "stderr",
     "output_type": "stream",
     "text": [
      "Simulation:  62%|██████▏   | 369/600 [00:21<00:14, 16.35it/s, Simulated time=0:00 of 0:01 hours]"
     ]
    },
    {
     "name": "stdout",
     "output_type": "stream",
     "text": [
      "0.0023107528686523438\n",
      "0.0022110939025878906\n",
      "0.0015058517456054688\n",
      "0.0014348030090332031\n"
     ]
    },
    {
     "name": "stderr",
     "output_type": "stream",
     "text": [
      "Simulation:  62%|██████▏   | 373/600 [00:22<00:13, 16.78it/s, Simulated time=0:00 of 0:01 hours]"
     ]
    },
    {
     "name": "stdout",
     "output_type": "stream",
     "text": [
      "0.0015413761138916016\n",
      "0.0014636516571044922\n",
      "0.001428842544555664\n",
      "0.001516103744506836\n"
     ]
    },
    {
     "name": "stderr",
     "output_type": "stream",
     "text": [
      "Simulation:  63%|██████▎   | 377/600 [00:22<00:13, 16.75it/s, Simulated time=0:00 of 0:01 hours]"
     ]
    },
    {
     "name": "stdout",
     "output_type": "stream",
     "text": [
      "0.001535177230834961\n",
      "0.0015015602111816406\n",
      "0.0014734268188476562\n",
      "0.0014443397521972656\n"
     ]
    },
    {
     "name": "stderr",
     "output_type": "stream",
     "text": [
      "Simulation:  64%|██████▎   | 381/600 [00:22<00:13, 16.34it/s, Simulated time=0:00 of 0:01 hours]"
     ]
    },
    {
     "name": "stdout",
     "output_type": "stream",
     "text": [
      "0.0021321773529052734\n",
      "0.002416849136352539\n",
      "0.0015320777893066406\n",
      "0.001569986343383789\n"
     ]
    },
    {
     "name": "stderr",
     "output_type": "stream",
     "text": [
      "Simulation:  64%|██████▍   | 385/600 [00:22<00:13, 16.23it/s, Simulated time=0:00 of 0:01 hours]"
     ]
    },
    {
     "name": "stdout",
     "output_type": "stream",
     "text": [
      "0.0016412734985351562\n",
      "0.0016562938690185547\n",
      "0.0016598701477050781\n",
      "0.0017147064208984375\n"
     ]
    },
    {
     "name": "stderr",
     "output_type": "stream",
     "text": [
      "Simulation:  65%|██████▍   | 389/600 [00:23<00:13, 15.62it/s, Simulated time=0:00 of 0:01 hours]"
     ]
    },
    {
     "name": "stdout",
     "output_type": "stream",
     "text": [
      "0.0019061565399169922\n",
      "0.0014910697937011719\n",
      "0.0027008056640625\n",
      "0.0015184879302978516\n"
     ]
    },
    {
     "name": "stderr",
     "output_type": "stream",
     "text": [
      "Simulation:  65%|██████▌   | 391/600 [00:23<00:14, 14.58it/s, Simulated time=0:00 of 0:01 hours]"
     ]
    },
    {
     "name": "stdout",
     "output_type": "stream",
     "text": [
      "0.002129077911376953\n",
      "0.0029587745666503906\n",
      "0.0017023086547851562\n"
     ]
    },
    {
     "name": "stderr",
     "output_type": "stream",
     "text": [
      "Simulation:  66%|██████▌   | 395/600 [00:23<00:13, 14.94it/s, Simulated time=0:00 of 0:01 hours]"
     ]
    },
    {
     "name": "stdout",
     "output_type": "stream",
     "text": [
      "0.0014729499816894531\n",
      "0.0014760494232177734\n",
      "0.0015385150909423828\n",
      "0.0014557838439941406\n"
     ]
    },
    {
     "name": "stderr",
     "output_type": "stream",
     "text": [
      "Simulation:  66%|██████▋   | 399/600 [00:23<00:13, 14.37it/s, Simulated time=0:00 of 0:01 hours]"
     ]
    },
    {
     "name": "stdout",
     "output_type": "stream",
     "text": [
      "0.003337860107421875\n",
      "0.003171205520629883\n",
      "0.0014445781707763672\n"
     ]
    },
    {
     "name": "stderr",
     "output_type": "stream",
     "text": [
      "Simulation:  67%|██████▋   | 403/600 [00:24<00:12, 15.83it/s, Simulated time=0:00 of 0:01 hours]"
     ]
    },
    {
     "name": "stdout",
     "output_type": "stream",
     "text": [
      "0.001504659652709961\n",
      "0.0014681816101074219\n",
      "0.0014483928680419922\n",
      "0.0014567375183105469\n"
     ]
    },
    {
     "name": "stderr",
     "output_type": "stream",
     "text": [
      "Simulation:  68%|██████▊   | 407/600 [00:24<00:11, 16.88it/s, Simulated time=0:00 of 0:01 hours]"
     ]
    },
    {
     "name": "stdout",
     "output_type": "stream",
     "text": [
      "0.0018584728240966797\n",
      "0.001607656478881836\n",
      "0.0014634132385253906\n",
      "0.001493692398071289\n"
     ]
    },
    {
     "name": "stderr",
     "output_type": "stream",
     "text": [
      "Simulation:  68%|██████▊   | 411/600 [00:24<00:11, 17.02it/s, Simulated time=0:00 of 0:01 hours]"
     ]
    },
    {
     "name": "stdout",
     "output_type": "stream",
     "text": [
      "0.001453399658203125\n",
      "0.0015230178833007812\n",
      "0.0015869140625\n",
      "0.0014679431915283203\n"
     ]
    },
    {
     "name": "stderr",
     "output_type": "stream",
     "text": [
      "Simulation:  69%|██████▉   | 415/600 [00:24<00:10, 17.26it/s, Simulated time=0:00 of 0:01 hours]"
     ]
    },
    {
     "name": "stdout",
     "output_type": "stream",
     "text": [
      "0.0014903545379638672\n",
      "0.0014376640319824219\n",
      "0.0014717578887939453\n",
      "0.001462697982788086\n"
     ]
    },
    {
     "name": "stderr",
     "output_type": "stream",
     "text": [
      "Simulation:  70%|██████▉   | 419/600 [00:24<00:10, 17.22it/s, Simulated time=0:00 of 0:01 hours]"
     ]
    },
    {
     "name": "stdout",
     "output_type": "stream",
     "text": [
      "0.001508474349975586\n",
      "0.0015654563903808594\n",
      "0.0014729499816894531\n",
      "0.0014469623565673828\n"
     ]
    },
    {
     "name": "stderr",
     "output_type": "stream",
     "text": [
      "Simulation:  70%|███████   | 423/600 [00:25<00:10, 17.57it/s, Simulated time=0:00 of 0:01 hours]"
     ]
    },
    {
     "name": "stdout",
     "output_type": "stream",
     "text": [
      "0.001489877700805664\n",
      "0.0014500617980957031\n",
      "0.0015213489532470703\n",
      "0.0014643669128417969\n"
     ]
    },
    {
     "name": "stderr",
     "output_type": "stream",
     "text": [
      "Simulation:  71%|███████   | 427/600 [00:25<00:09, 17.52it/s, Simulated time=0:00 of 0:01 hours]"
     ]
    },
    {
     "name": "stdout",
     "output_type": "stream",
     "text": [
      "0.0014693737030029297\n",
      "0.0014662742614746094\n",
      "0.0014581680297851562\n",
      "0.0016269683837890625\n"
     ]
    },
    {
     "name": "stderr",
     "output_type": "stream",
     "text": [
      "Simulation:  72%|███████▏  | 431/600 [00:25<00:09, 17.38it/s, Simulated time=0:00 of 0:01 hours]"
     ]
    },
    {
     "name": "stdout",
     "output_type": "stream",
     "text": [
      "0.0018548965454101562\n",
      "0.0016024112701416016\n",
      "0.0015113353729248047\n",
      "0.0014541149139404297\n"
     ]
    },
    {
     "name": "stderr",
     "output_type": "stream",
     "text": [
      "Simulation:  72%|███████▎  | 435/600 [00:25<00:09, 17.38it/s, Simulated time=0:00 of 0:01 hours]"
     ]
    },
    {
     "name": "stdout",
     "output_type": "stream",
     "text": [
      "0.001493692398071289\n",
      "0.0015027523040771484\n",
      "0.0014846324920654297\n",
      "0.001538991928100586\n"
     ]
    },
    {
     "name": "stderr",
     "output_type": "stream",
     "text": [
      "Simulation:  73%|███████▎  | 439/600 [00:26<00:09, 17.32it/s, Simulated time=0:00 of 0:01 hours]"
     ]
    },
    {
     "name": "stdout",
     "output_type": "stream",
     "text": [
      "0.0015158653259277344\n",
      "0.001466989517211914\n",
      "0.001483917236328125\n",
      "0.001466989517211914\n"
     ]
    },
    {
     "name": "stderr",
     "output_type": "stream",
     "text": [
      "Simulation:  74%|███████▍  | 443/600 [00:26<00:08, 17.62it/s, Simulated time=0:00 of 0:01 hours]"
     ]
    },
    {
     "name": "stdout",
     "output_type": "stream",
     "text": [
      "0.0014805793762207031\n",
      "0.0017495155334472656\n",
      "0.0014917850494384766\n",
      "0.0014297962188720703\n"
     ]
    },
    {
     "name": "stderr",
     "output_type": "stream",
     "text": [
      "Simulation:  74%|███████▍  | 447/600 [00:26<00:08, 17.26it/s, Simulated time=0:00 of 0:01 hours]"
     ]
    },
    {
     "name": "stdout",
     "output_type": "stream",
     "text": [
      "0.0016942024230957031\n",
      "0.0014705657958984375\n",
      "0.0014390945434570312\n",
      "0.0014767646789550781\n"
     ]
    },
    {
     "name": "stderr",
     "output_type": "stream",
     "text": [
      "Simulation:  75%|███████▌  | 451/600 [00:26<00:08, 17.12it/s, Simulated time=0:00 of 0:01 hours]"
     ]
    },
    {
     "name": "stdout",
     "output_type": "stream",
     "text": [
      "0.0015425682067871094\n",
      "0.0014352798461914062\n",
      "0.0014438629150390625\n",
      "0.0014548301696777344\n"
     ]
    },
    {
     "name": "stderr",
     "output_type": "stream",
     "text": [
      "Simulation:  76%|███████▌  | 455/600 [00:27<00:08, 17.44it/s, Simulated time=0:00 of 0:01 hours]"
     ]
    },
    {
     "name": "stdout",
     "output_type": "stream",
     "text": [
      "0.0015406608581542969\n",
      "0.0014586448669433594\n",
      "0.0017266273498535156\n",
      "0.0014548301696777344\n"
     ]
    },
    {
     "name": "stderr",
     "output_type": "stream",
     "text": [
      "Simulation:  76%|███████▋  | 459/600 [00:27<00:08, 17.57it/s, Simulated time=0:00 of 0:01 hours]"
     ]
    },
    {
     "name": "stdout",
     "output_type": "stream",
     "text": [
      "0.0019807815551757812\n",
      "0.0014445781707763672\n",
      "0.001443624496459961\n",
      "0.0014498233795166016\n"
     ]
    },
    {
     "name": "stderr",
     "output_type": "stream",
     "text": [
      "Simulation:  77%|███████▋  | 461/600 [00:27<00:08, 16.84it/s, Simulated time=0:00 of 0:01 hours]"
     ]
    },
    {
     "name": "stdout",
     "output_type": "stream",
     "text": [
      "0.0014641284942626953\n",
      "0.0031914710998535156\n",
      "0.0016927719116210938\n"
     ]
    },
    {
     "name": "stderr",
     "output_type": "stream",
     "text": [
      "Simulation:  78%|███████▊  | 465/600 [00:27<00:08, 16.10it/s, Simulated time=0:00 of 0:01 hours]"
     ]
    },
    {
     "name": "stdout",
     "output_type": "stream",
     "text": [
      "0.0014374256134033203\n",
      "0.0014955997467041016\n",
      "0.0017304420471191406\n",
      "0.001531362533569336\n"
     ]
    },
    {
     "name": "stderr",
     "output_type": "stream",
     "text": [
      "Simulation:  78%|███████▊  | 469/600 [00:27<00:07, 16.99it/s, Simulated time=0:00 of 0:01 hours]"
     ]
    },
    {
     "name": "stdout",
     "output_type": "stream",
     "text": [
      "0.0027523040771484375\n",
      "0.0015625953674316406\n",
      "0.001483917236328125\n",
      "0.0015230178833007812\n"
     ]
    },
    {
     "name": "stderr",
     "output_type": "stream",
     "text": [
      "Simulation:  79%|███████▉  | 473/600 [00:28<00:07, 17.07it/s, Simulated time=0:00 of 0:01 hours]"
     ]
    },
    {
     "name": "stdout",
     "output_type": "stream",
     "text": [
      "0.002240896224975586\n",
      "0.0018551349639892578\n",
      "0.0015206336975097656\n",
      "0.0014667510986328125\n"
     ]
    },
    {
     "name": "stderr",
     "output_type": "stream",
     "text": [
      "Simulation:  80%|███████▉  | 477/600 [00:28<00:07, 16.02it/s, Simulated time=0:00 of 0:01 hours]"
     ]
    },
    {
     "name": "stdout",
     "output_type": "stream",
     "text": [
      "0.003214120864868164\n",
      "0.00177764892578125\n",
      "0.0014805793762207031\n",
      "0.0014722347259521484\n"
     ]
    },
    {
     "name": "stderr",
     "output_type": "stream",
     "text": [
      "Simulation:  80%|████████  | 481/600 [00:28<00:07, 16.96it/s, Simulated time=0:00 of 0:01 hours]"
     ]
    },
    {
     "name": "stdout",
     "output_type": "stream",
     "text": [
      "0.0015673637390136719\n",
      "0.0014815330505371094\n",
      "0.00144195556640625\n",
      "0.0014579296112060547\n"
     ]
    },
    {
     "name": "stderr",
     "output_type": "stream",
     "text": [
      "Simulation:  81%|████████  | 485/600 [00:28<00:06, 17.34it/s, Simulated time=0:00 of 0:01 hours]"
     ]
    },
    {
     "name": "stdout",
     "output_type": "stream",
     "text": [
      "0.0016374588012695312\n",
      "0.0019016265869140625\n",
      "0.0015134811401367188\n",
      "0.0014376640319824219\n"
     ]
    },
    {
     "name": "stderr",
     "output_type": "stream",
     "text": [
      "Simulation:  82%|████████▏ | 489/600 [00:29<00:06, 17.32it/s, Simulated time=0:00 of 0:01 hours]"
     ]
    },
    {
     "name": "stdout",
     "output_type": "stream",
     "text": [
      "0.0020787715911865234\n",
      "0.0014460086822509766\n",
      "0.0014452934265136719\n",
      "0.0014595985412597656\n"
     ]
    },
    {
     "name": "stderr",
     "output_type": "stream",
     "text": [
      "Simulation:  82%|████████▏ | 493/600 [00:29<00:06, 17.32it/s, Simulated time=0:00 of 0:01 hours]"
     ]
    },
    {
     "name": "stdout",
     "output_type": "stream",
     "text": [
      "0.0016481876373291016\n",
      "0.0014827251434326172\n",
      "0.0015017986297607422\n",
      "0.0014476776123046875\n"
     ]
    },
    {
     "name": "stderr",
     "output_type": "stream",
     "text": [
      "Simulation:  83%|████████▎ | 497/600 [00:29<00:06, 16.98it/s, Simulated time=0:00 of 0:01 hours]"
     ]
    },
    {
     "name": "stdout",
     "output_type": "stream",
     "text": [
      "0.001550436019897461\n",
      "0.0016934871673583984\n",
      "0.0014560222625732422\n",
      "0.0014986991882324219\n"
     ]
    },
    {
     "name": "stderr",
     "output_type": "stream",
     "text": [
      "Simulation:  84%|████████▎ | 501/600 [00:29<00:05, 16.96it/s, Simulated time=0:00 of 0:01 hours]"
     ]
    },
    {
     "name": "stdout",
     "output_type": "stream",
     "text": [
      "0.0014941692352294922\n",
      "0.0014576911926269531\n",
      "0.0014574527740478516\n",
      "0.0014815330505371094\n"
     ]
    },
    {
     "name": "stderr",
     "output_type": "stream",
     "text": [
      "Simulation:  84%|████████▍ | 505/600 [00:30<00:05, 17.44it/s, Simulated time=0:00 of 0:01 hours]"
     ]
    },
    {
     "name": "stdout",
     "output_type": "stream",
     "text": [
      "0.0014424324035644531\n",
      "0.0014688968658447266\n",
      "0.0014476776123046875\n",
      "0.0020635128021240234\n"
     ]
    },
    {
     "name": "stderr",
     "output_type": "stream",
     "text": [
      "Simulation:  85%|████████▍ | 509/600 [00:30<00:05, 17.23it/s, Simulated time=0:00 of 0:01 hours]"
     ]
    },
    {
     "name": "stdout",
     "output_type": "stream",
     "text": [
      "0.0014808177947998047\n",
      "0.0015304088592529297\n",
      "0.001439809799194336\n",
      "0.0015826225280761719\n"
     ]
    },
    {
     "name": "stderr",
     "output_type": "stream",
     "text": [
      "Simulation:  86%|████████▌ | 513/600 [00:30<00:05, 17.27it/s, Simulated time=0:00 of 0:01 hours]"
     ]
    },
    {
     "name": "stdout",
     "output_type": "stream",
     "text": [
      "0.0015573501586914062\n",
      "0.0017242431640625\n",
      "0.0015027523040771484\n",
      "0.0015559196472167969\n"
     ]
    },
    {
     "name": "stderr",
     "output_type": "stream",
     "text": [
      "Simulation:  86%|████████▌ | 517/600 [00:30<00:04, 17.49it/s, Simulated time=0:00 of 0:01 hours]"
     ]
    },
    {
     "name": "stdout",
     "output_type": "stream",
     "text": [
      "0.0014469623565673828\n",
      "0.0016202926635742188\n",
      "0.001436471939086914\n",
      "0.0014834403991699219\n"
     ]
    },
    {
     "name": "stderr",
     "output_type": "stream",
     "text": [
      "Simulation:  87%|████████▋ | 521/600 [00:30<00:04, 17.07it/s, Simulated time=0:00 of 0:01 hours]"
     ]
    },
    {
     "name": "stdout",
     "output_type": "stream",
     "text": [
      "0.0015239715576171875\n",
      "0.0015451908111572266\n",
      "0.0014426708221435547\n",
      "0.001444101333618164\n"
     ]
    },
    {
     "name": "stderr",
     "output_type": "stream",
     "text": [
      "Simulation:  88%|████████▊ | 525/600 [00:31<00:04, 15.45it/s, Simulated time=0:00 of 0:01 hours]"
     ]
    },
    {
     "name": "stdout",
     "output_type": "stream",
     "text": [
      "0.0015170574188232422\n",
      "0.004675626754760742\n",
      "0.0016283988952636719\n"
     ]
    },
    {
     "name": "stderr",
     "output_type": "stream",
     "text": [
      "Simulation:  88%|████████▊ | 529/600 [00:31<00:04, 16.35it/s, Simulated time=0:00 of 0:01 hours]"
     ]
    },
    {
     "name": "stdout",
     "output_type": "stream",
     "text": [
      "0.0017287731170654297\n",
      "0.0014808177947998047\n",
      "0.0015020370483398438\n",
      "0.0014586448669433594\n"
     ]
    },
    {
     "name": "stderr",
     "output_type": "stream",
     "text": [
      "Simulation:  89%|████████▉ | 533/600 [00:31<00:03, 16.84it/s, Simulated time=0:00 of 0:01 hours]"
     ]
    },
    {
     "name": "stdout",
     "output_type": "stream",
     "text": [
      "0.0015475749969482422\n",
      "0.0015943050384521484\n",
      "0.0014727115631103516\n",
      "0.0015892982482910156\n"
     ]
    },
    {
     "name": "stderr",
     "output_type": "stream",
     "text": [
      "Simulation:  90%|████████▉ | 537/600 [00:31<00:03, 16.99it/s, Simulated time=0:00 of 0:01 hours]"
     ]
    },
    {
     "name": "stdout",
     "output_type": "stream",
     "text": [
      "0.0021414756774902344\n",
      "0.0014443397521972656\n",
      "0.001585245132446289\n",
      "0.00144195556640625\n"
     ]
    },
    {
     "name": "stderr",
     "output_type": "stream",
     "text": [
      "Simulation:  90%|█████████ | 541/600 [00:32<00:03, 17.23it/s, Simulated time=0:00 of 0:01 hours]"
     ]
    },
    {
     "name": "stdout",
     "output_type": "stream",
     "text": [
      "0.0014863014221191406\n",
      "0.001497030258178711\n",
      "0.001430511474609375\n",
      "0.0014553070068359375\n"
     ]
    },
    {
     "name": "stderr",
     "output_type": "stream",
     "text": [
      "Simulation:  91%|█████████ | 545/600 [00:32<00:03, 17.40it/s, Simulated time=0:00 of 0:01 hours]"
     ]
    },
    {
     "name": "stdout",
     "output_type": "stream",
     "text": [
      "0.0024459362030029297\n",
      "0.0014302730560302734\n",
      "0.0014941692352294922\n",
      "0.0014507770538330078\n"
     ]
    },
    {
     "name": "stderr",
     "output_type": "stream",
     "text": [
      "Simulation:  92%|█████████▏| 549/600 [00:32<00:02, 17.33it/s, Simulated time=0:00 of 0:01 hours]"
     ]
    },
    {
     "name": "stdout",
     "output_type": "stream",
     "text": [
      "0.0014729499816894531\n",
      "0.0014595985412597656\n",
      "0.0014569759368896484\n",
      "0.0014748573303222656\n"
     ]
    },
    {
     "name": "stderr",
     "output_type": "stream",
     "text": [
      "Simulation:  92%|█████████▏| 553/600 [00:32<00:02, 17.49it/s, Simulated time=0:00 of 0:01 hours]"
     ]
    },
    {
     "name": "stdout",
     "output_type": "stream",
     "text": [
      "0.001477956771850586\n",
      "0.0018455982208251953\n",
      "0.001489877700805664\n",
      "0.0014355182647705078\n"
     ]
    },
    {
     "name": "stderr",
     "output_type": "stream",
     "text": [
      "Simulation:  93%|█████████▎| 557/600 [00:33<00:02, 17.24it/s, Simulated time=0:00 of 0:01 hours]"
     ]
    },
    {
     "name": "stdout",
     "output_type": "stream",
     "text": [
      "0.0015077590942382812\n",
      "0.0016052722930908203\n",
      "0.0015544891357421875\n",
      "0.001604318618774414\n"
     ]
    },
    {
     "name": "stderr",
     "output_type": "stream",
     "text": [
      "Simulation:  94%|█████████▎| 561/600 [00:33<00:02, 17.21it/s, Simulated time=0:00 of 0:01 hours]"
     ]
    },
    {
     "name": "stdout",
     "output_type": "stream",
     "text": [
      "0.0014786720275878906\n",
      "0.0015516281127929688\n",
      "0.0014486312866210938\n",
      "0.0015783309936523438\n"
     ]
    },
    {
     "name": "stderr",
     "output_type": "stream",
     "text": [
      "Simulation:  94%|█████████▍| 565/600 [00:33<00:02, 16.36it/s, Simulated time=0:00 of 0:01 hours]"
     ]
    },
    {
     "name": "stdout",
     "output_type": "stream",
     "text": [
      "0.0014910697937011719\n",
      "0.0022253990173339844\n",
      "0.0017044544219970703\n",
      "0.0015501976013183594\n"
     ]
    },
    {
     "name": "stderr",
     "output_type": "stream",
     "text": [
      "Simulation:  95%|█████████▍| 569/600 [00:33<00:01, 16.91it/s, Simulated time=0:00 of 0:01 hours]"
     ]
    },
    {
     "name": "stdout",
     "output_type": "stream",
     "text": [
      "0.0014374256134033203\n",
      "0.0014719963073730469\n",
      "0.0014727115631103516\n",
      "0.0018315315246582031\n"
     ]
    },
    {
     "name": "stderr",
     "output_type": "stream",
     "text": [
      "Simulation:  96%|█████████▌| 573/600 [00:33<00:01, 17.30it/s, Simulated time=0:00 of 0:01 hours]"
     ]
    },
    {
     "name": "stdout",
     "output_type": "stream",
     "text": [
      "0.0016021728515625\n",
      "0.0016160011291503906\n",
      "0.001447439193725586\n",
      "0.0015568733215332031\n"
     ]
    },
    {
     "name": "stderr",
     "output_type": "stream",
     "text": [
      "Simulation:  96%|█████████▌| 577/600 [00:34<00:01, 17.25it/s, Simulated time=0:00 of 0:01 hours]"
     ]
    },
    {
     "name": "stdout",
     "output_type": "stream",
     "text": [
      "0.0015125274658203125\n",
      "0.0014624595642089844\n",
      "0.0014314651489257812\n",
      "0.0014889240264892578\n"
     ]
    },
    {
     "name": "stderr",
     "output_type": "stream",
     "text": [
      "Simulation:  96%|█████████▋| 579/600 [00:34<00:01, 16.17it/s, Simulated time=0:00 of 0:01 hours]"
     ]
    },
    {
     "name": "stdout",
     "output_type": "stream",
     "text": [
      "0.0015277862548828125\n",
      "0.003383636474609375\n",
      "0.001867532730102539\n"
     ]
    },
    {
     "name": "stderr",
     "output_type": "stream",
     "text": [
      "Simulation:  97%|█████████▋| 583/600 [00:34<00:01, 15.58it/s, Simulated time=0:00 of 0:01 hours]"
     ]
    },
    {
     "name": "stdout",
     "output_type": "stream",
     "text": [
      "0.002331972122192383\n",
      "0.0014734268188476562\n",
      "0.0014376640319824219\n",
      "0.0014829635620117188\n"
     ]
    },
    {
     "name": "stderr",
     "output_type": "stream",
     "text": [
      "Simulation:  98%|█████████▊| 587/600 [00:34<00:00, 16.31it/s, Simulated time=0:00 of 0:01 hours]"
     ]
    },
    {
     "name": "stdout",
     "output_type": "stream",
     "text": [
      "0.0015897750854492188\n",
      "0.001478433609008789\n",
      "0.0015552043914794922\n",
      "0.0014698505401611328\n"
     ]
    },
    {
     "name": "stderr",
     "output_type": "stream",
     "text": [
      "Simulation:  98%|█████████▊| 591/600 [00:35<00:00, 16.54it/s, Simulated time=0:00 of 0:01 hours]"
     ]
    },
    {
     "name": "stdout",
     "output_type": "stream",
     "text": [
      "0.00154876708984375\n",
      "0.0014734268188476562\n",
      "0.0014743804931640625\n",
      "0.0014500617980957031\n"
     ]
    },
    {
     "name": "stderr",
     "output_type": "stream",
     "text": [
      "Simulation:  99%|█████████▉| 595/600 [00:35<00:00, 17.01it/s, Simulated time=0:00 of 0:01 hours]"
     ]
    },
    {
     "name": "stdout",
     "output_type": "stream",
     "text": [
      "0.0016813278198242188\n",
      "0.0014495849609375\n",
      "0.0014560222625732422\n",
      "0.0015478134155273438\n"
     ]
    },
    {
     "name": "stderr",
     "output_type": "stream",
     "text": [
      "Simulation: 100%|██████████| 600/600 [00:35<00:00, 16.88it/s, Simulated time=0:00 of 0:01 hours]\n"
     ]
    },
    {
     "name": "stdout",
     "output_type": "stream",
     "text": [
      "0.0015075206756591797\n",
      "0.0016858577728271484\n",
      "0.001544952392578125\n"
     ]
    }
   ],
   "source": [
    "plot = True  # slows down loop significantly!\n",
    "record_video = False  # slows down loop even more!\n",
    "if record_video:\n",
    "    plot = True\n",
    "\n",
    "confidentTracker = ConfidentTracker(N_robots=N_robots, include_observations=True)\n",
    "accurateTracker = AccurateTracker(N_robots=N_robots, include_observations=False, train=False)\n",
    "particleTracker = ParticleTracker(T_step, 3, 1000)\n",
    "\n",
    "if plot:\n",
    "    plotter = Plotter(record_frames=record_video)\n",
    "\n",
    "pbar = tqdm(range(0, len(sim_states)), desc=\"Simulation\")\n",
    "\n",
    "simulation_time = 0\n",
    "confidentTracker_node_probabilities = []\n",
    "accurateTracker_node_probabilities = []\n",
    "particleTracker_node_probabilities = []\n",
    "for i in pbar:\n",
    "    sim_state = sim_states[i]\n",
    "\n",
    "    # outer list: robots, inner list: perceived humans for every robot\n",
    "    robot_perceptions = [\n",
    "        {\n",
    "            \"ego_position\": agent[\"ego_position\"],\n",
    "            \"observable_nodes\": agent[\"observable_nodes\"],\n",
    "            \"perceived_humans\": agent[\"perceived_humans\"],\n",
    "        }\n",
    "        for agent in sim_state\n",
    "        if agent[\"type\"] == \"robot\"\n",
    "    ]\n",
    "\n",
    "    confidentTracker_node_probabilities.append(confidentTracker.add_observation(robot_perceptions))\n",
    "    _ = confidentTracker.predict()\n",
    "\n",
    "    accurateTracker_node_probabilities.append(accurateTracker.add_observation(robot_perceptions))\n",
    "    _ = accurateTracker.predict()\n",
    "\n",
    "    particleTracker_node_probabilities.append(particleTracker.add_observation(robot_perceptions))\n",
    "    _ = particleTracker.predict()\n",
    "\n",
    "    if plot:\n",
    "        plotter.update(sim_state, particleTracker_node_probabilities[-1])\n",
    "\n",
    "    pbar.set_postfix(\n",
    "        {\n",
    "            \"Simulated time\": \"{:d}:{:02d} of {:d}:{:02d} hours\".format(\n",
    "                int(simulation_time / 3600),\n",
    "                int(simulation_time / 60) % 60,\n",
    "                int(T_simulation / 3600),\n",
    "                int(T_simulation / 60) % 60,\n",
    "            )\n",
    "        }\n",
    "    )\n",
    "\n",
    "    simulation_time += T_step\n",
    "\n",
    "if record_video:\n",
    "    plotter.create_video(T_step)"
   ]
  },
  {
   "cell_type": "markdown",
   "metadata": {},
   "source": [
    "Now the performance of the tracker is evaluated using two performance metrics: Confidence and Accuracy. Both are defined as loss metrics, hence 0 is the optimal value and the larger the value is, the worse the metric is."
   ]
  },
  {
   "cell_type": "code",
   "execution_count": 5,
   "metadata": {},
   "outputs": [
    {
     "name": "stderr",
     "output_type": "stream",
     "text": [
      "invalid command name \"139782270826944process_stream_events\"\n",
      "    while executing\n",
      "\"139782270826944process_stream_events\"\n",
      "    (\"after\" script)\n",
      "can't invoke \"event\" command: application has been destroyed\n",
      "    while executing\n",
      "\"event generate $w <<ThemeChanged>>\"\n",
      "    (procedure \"ttk::ThemeChanged\" line 6)\n",
      "    invoked from within\n",
      "\"ttk::ThemeChanged\"\n"
     ]
    }
   ],
   "source": [
    "confidentTracker_confidence = Confidence(sim_log, confidentTracker_node_probabilities).per_graph()\n",
    "accurateTracker_confidence = Confidence(sim_log, accurateTracker_node_probabilities).per_graph()\n",
    "particleTracker_confidence = Confidence(sim_log, particleTracker_node_probabilities).per_graph()\n",
    "\n",
    "confidentTracker_accuracy = Accuracy(sim_log, confidentTracker_node_probabilities).per_graph()\n",
    "accurateTracker_accuracy = Accuracy(sim_log, accurateTracker_node_probabilities).per_graph()\n",
    "particleTracker_accuracy = Accuracy(sim_log, particleTracker_node_probabilities).per_graph()\n",
    "\n",
    "\n",
    "from python.figures import results_plot\n",
    "\n",
    "results_plot(\n",
    "    confidentTracker_confidence=confidentTracker_confidence,\n",
    "    confidentTracker_accuracy=confidentTracker_accuracy,\n",
    "    accurateTracker_confidence=accurateTracker_confidence,\n",
    "    accurateTracker_accuracy=accurateTracker_accuracy,\n",
    "    particleTracker_confidence=particleTracker_confidence,\n",
    "    particleTracker_accuracy=particleTracker_accuracy,\n",
    ")"
   ]
  }
 ],
 "metadata": {
  "kernelspec": {
   "display_name": "venv",
   "language": "python",
   "name": "python3"
  },
  "language_info": {
   "codemirror_mode": {
    "name": "ipython",
    "version": 3
   },
   "file_extension": ".py",
   "mimetype": "text/x-python",
   "name": "python",
   "nbconvert_exporter": "python",
   "pygments_lexer": "ipython3",
   "version": "3.10.12"
  }
 },
 "nbformat": 4,
 "nbformat_minor": 2
}

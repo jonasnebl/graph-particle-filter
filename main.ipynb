{
 "cells": [
  {
   "cell_type": "markdown",
   "metadata": {},
   "source": [
    "# Run the tracker\n",
    "\n",
    "This jupyter notebook bundles all necessary high-level steps to train the tracker. We start with running the simulation to generate training data."
   ]
  },
  {
   "cell_type": "code",
   "execution_count": 1,
   "metadata": {},
   "outputs": [],
   "source": [
    "from tqdm import tqdm\n",
    "import pickle\n",
    "import sys\n",
    "import numpy as np\n",
    "from datetime import datetime\n",
    "import os\n",
    "sys.path.append('build/')\n",
    "import simulation\n",
    "from time import time, sleep\n",
    "from python.plotter import Plotter\n",
    "from python.GNNtracker import GNNTracker\n",
    "from python.constants import *"
   ]
  },
  {
   "cell_type": "markdown",
   "metadata": {},
   "source": [
    "Now we need to get simulation data of the warehouse. We can use the simulation to generate new simulation data. This cell is optional, we can also load old simulation data."
   ]
  },
  {
   "cell_type": "code",
   "execution_count": 2,
   "metadata": {},
   "outputs": [
    {
     "name": "stderr",
     "output_type": "stream",
     "text": [
      "Simulation: 100%|██████████| 2/2 [00:00<00:00, 52.56it/s, Simulated time=0:1 of 0 hours]\n"
     ]
    }
   ],
   "source": [
    "T_simulation = 120 # 1 hour\n",
    "\n",
    "sim = simulation.Simulation(\n",
    "    T_step=0.1, \n",
    "    N_humans=3, \n",
    "    N_robots=1\n",
    ")\n",
    "sim_states = []\n",
    "N_minutes = int(T_simulation / 60)\n",
    "N_hours = int(T_simulation / 3600)\n",
    "pbar = tqdm(range(0, N_minutes), desc='Simulation')\n",
    "for i in pbar:\n",
    "    sim_states += sim.step(int(60 / sim.T_step))\n",
    "    current_hour = int(i / 60)\n",
    "    current_minute = i % 60\n",
    "    pbar.set_postfix({'Simulated time': f'{current_hour}:{current_minute} of {N_hours} hours'})\n",
    "\n",
    "filename = os.path.join(LOG_FOLDER, 'log_' + datetime.now().strftime(\"%Y-%m-%d_%H-%M-%S\") + '.pkl')\n",
    "with open(filename, 'wb') as outp:\n",
    "    pickle.dump({\n",
    "        'T_step': sim.T_step,\n",
    "        'T_simulation': np.arange(0, len(sim_states) * sim.T_step, sim.T_step),\n",
    "        'N_humans': sim.N_humans,\n",
    "        'N_robots': sim.N_robots,\n",
    "        'sim_states': sim_states,\n",
    "    }, outp, pickle.HIGHEST_PROTOCOL)\n",
    "    "
   ]
  },
  {
   "cell_type": "markdown",
   "metadata": {},
   "source": [
    "Now we load the generated simulation logs."
   ]
  },
  {
   "cell_type": "code",
   "execution_count": 3,
   "metadata": {},
   "outputs": [],
   "source": [
    "if \"filename\" not in locals():\n",
    "    filename = os.path.join(LOG_FOLDER, 'log_2024-08-16_20-34-51.pkl')\n",
    "with open(filename, 'rb') as f:\n",
    "    sim_log = pickle.load(f)\n",
    "sim_states = sim_log['sim_states']\n",
    "T_simulation = sim_log['T_simulation']\n",
    "T_step = sim_log['T_step']\n",
    "N_humans = sim_log['N_humans']\n",
    "N_robots = sim_log['N_robots']\n",
    "# load simulation to have access to member utility functions\n",
    "sim = simulation.Simulation(\n",
    "    T_step=0.1, \n",
    "    N_humans=3, \n",
    "    N_robots=1\n",
    ")"
   ]
  },
  {
   "cell_type": "markdown",
   "metadata": {},
   "source": [
    "Now that we have the simulation data, we can run the actual tracker."
   ]
  },
  {
   "cell_type": "code",
   "execution_count": 4,
   "metadata": {},
   "outputs": [
    {
     "name": "stderr",
     "output_type": "stream",
     "text": [
      "invalid command name \"140693066012480process_stream_events\"\n",
      "    while executing\n",
      "\"140693066012480process_stream_events\"\n",
      "    (\"after\" script)\n",
      "can't invoke \"event\" command: application has been destroyed\n",
      "    while executing\n",
      "\"event generate $w <<ThemeChanged>>\"\n",
      "    (procedure \"ttk::ThemeChanged\" line 6)\n",
      "    invoked from within\n",
      "\"ttk::ThemeChanged\"\n"
     ]
    },
    {
     "ename": "KeyboardInterrupt",
     "evalue": "",
     "output_type": "error",
     "traceback": [
      "\u001b[0;31m---------------------------------------------------------------------------\u001b[0m",
      "\u001b[0;31mKeyboardInterrupt\u001b[0m                         Traceback (most recent call last)",
      "Cell \u001b[0;32mIn[4], line 28\u001b[0m\n\u001b[1;32m     24\u001b[0m     node_probabilities \u001b[38;5;241m=\u001b[39m tracker\u001b[38;5;241m.\u001b[39mpredict()\n\u001b[1;32m     26\u001b[0m     \u001b[38;5;28;01mif\u001b[39;00m plot: plotter\u001b[38;5;241m.\u001b[39mupdate(sim_state, node_probabilities)    \n\u001b[0;32m---> 28\u001b[0m     \u001b[38;5;28;01mif\u001b[39;00m realtime: sleep(\u001b[38;5;28mmax\u001b[39m(\u001b[38;5;241m0\u001b[39m, T_step \u001b[38;5;241m-\u001b[39m (time() \u001b[38;5;241m-\u001b[39m start)))\n\u001b[1;32m     30\u001b[0m \u001b[38;5;28;01mif\u001b[39;00m record_video: plotter\u001b[38;5;241m.\u001b[39mcreate_video(T_step)\n",
      "\u001b[0;31mKeyboardInterrupt\u001b[0m: "
     ]
    }
   ],
   "source": [
    "plot = True\n",
    "record_video = False\n",
    "realtime = True\n",
    "\n",
    "tracker = GNNTracker(\n",
    "    T_step=T_step,\n",
    "    train=False,\n",
    "    # use extend_perception implemented in simulation class with C++ for speedup\n",
    "    extend_perception=sim.extend_perception \n",
    ")\n",
    "\n",
    "if plot: plotter = Plotter(record_frames=record_video)\n",
    "\n",
    "for sim_state in sim_states:\n",
    "    start = time()\n",
    "\n",
    "    # outer list: robots, inner list: perceived humans for every robot\n",
    "    robot_perceptions = [{ \n",
    "        \"ego_position\": agent['ego_position'],\n",
    "        \"perceived_humans\": agent['perceived_humans'] \n",
    "    } for agent in sim_state if agent['type'] == 'robot']\n",
    "\n",
    "    tracker.add_observation(robot_perceptions)\n",
    "    node_probabilities = tracker.predict()\n",
    "\n",
    "    if plot: plotter.update(sim_state, node_probabilities)    \n",
    "    \n",
    "    if realtime: sleep(max(0, T_step - (time() - start)))\n",
    "\n",
    "if record_video: plotter.create_video(T_step)"
   ]
  }
 ],
 "metadata": {
  "kernelspec": {
   "display_name": "venv",
   "language": "python",
   "name": "python3"
  },
  "language_info": {
   "codemirror_mode": {
    "name": "ipython",
    "version": 3
   },
   "file_extension": ".py",
   "mimetype": "text/x-python",
   "name": "python",
   "nbconvert_exporter": "python",
   "pygments_lexer": "ipython3",
   "version": "3.10.12"
  }
 },
 "nbformat": 4,
 "nbformat_minor": 2
}

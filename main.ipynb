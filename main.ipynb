{
 "cells": [
  {
   "cell_type": "markdown",
   "metadata": {},
   "source": [
    "# Run the Tracker\n",
    "\n",
    "This jupyter notebook bundles all necessary high-level steps to train the tracker. The first step is to include all necessary modules."
   ]
  },
  {
   "cell_type": "code",
   "execution_count": 1,
   "metadata": {},
   "outputs": [],
   "source": [
    "from tqdm import tqdm\n",
    "import pickle\n",
    "import sys\n",
    "import numpy as np\n",
    "from datetime import datetime\n",
    "import os\n",
    "sys.path.append('build/')\n",
    "from cpp_utils import Simulation\n",
    "from time import time, sleep\n",
    "from python.plotter import Plotter\n",
    "from python.constants import *\n",
    "from python.accurateTracker import AccurateTracker\n",
    "from python.confidentTracker import ConfidentTracker\n",
    "from python.metrics import Confidence, Accuracy"
   ]
  },
  {
   "cell_type": "markdown",
   "metadata": {},
   "source": [
    "A simple 2D simulation simulates is used to generate the data of the robot perceptions. The next cells runs a new simulation to generate fresh data. The fresh data is saved by a simulation log pickle file. This cell is optional, we can also load the data from an old simulation log."
   ]
  },
  {
   "cell_type": "code",
   "execution_count": 2,
   "metadata": {},
   "outputs": [
    {
     "name": "stderr",
     "output_type": "stream",
     "text": [
      "Simulation: 100%|██████████| 5/5 [00:00<00:00, 14.84it/s, Simulated time=0:04 of 0:05 hours]\n"
     ]
    }
   ],
   "source": [
    "T_simulation = 5 * 60 # 5 minutes\n",
    "\n",
    "sim = Simulation(\n",
    "    T_step=0.1, \n",
    "    N_humans=3, \n",
    "    N_robots=1\n",
    ")\n",
    "sim_states = []\n",
    "N_minutes = int(T_simulation / 60)\n",
    "N_hours = int(T_simulation / 3600)\n",
    "pbar = tqdm(range(0, N_minutes), desc='Simulation')\n",
    "for i in pbar:\n",
    "    sim_states += sim.step(int(60 / sim.T_step))\n",
    "    pbar.set_postfix(\n",
    "    {'Simulated time': '{:d}:{:02d} of {:d}:{:02d} hours'.format(\n",
    "        int(i / 60), \n",
    "        i % 60, \n",
    "        int(T_simulation / 3600), \n",
    "        int(T_simulation / 60) % 60\n",
    "    )})\n",
    "\n",
    "sim_log = {\n",
    "        'T_step': sim.T_step,\n",
    "        'T_simulation': T_simulation,\n",
    "        'N_humans': sim.N_humans,\n",
    "        'N_robots': sim.N_robots,\n",
    "        'sim_states': sim_states,\n",
    "    }\n",
    "filename = os.path.join(LOG_FOLDER, 'log_' + datetime.now().strftime(\"%Y-%m-%d_%H-%M-%S\") + '.pkl')\n",
    "with open(filename, 'wb') as outp:\n",
    "    pickle.dump(sim_log, outp, pickle.HIGHEST_PROTOCOL)\n",
    "    "
   ]
  },
  {
   "cell_type": "markdown",
   "metadata": {},
   "source": [
    "This cell loads the simulation data from a simulation log. If no fresh data is available, an old simulation log is loaded."
   ]
  },
  {
   "cell_type": "code",
   "execution_count": 3,
   "metadata": {},
   "outputs": [],
   "source": [
    "if \"sim_log\" not in locals():\n",
    "    filename = os.path.join(LOG_FOLDER, 'log_2024-08-30_10-47-52.pkl')\n",
    "    with open(filename, 'rb') as f:\n",
    "        sim_log = pickle.load(f)\n",
    "sim_states = sim_log['sim_states']\n",
    "T_simulation = sim_log['T_simulation']\n",
    "T_step = sim_log['T_step']\n",
    "N_humans = sim_log['N_humans']\n",
    "N_robots = sim_log['N_robots']\n",
    "# load simulation to have access to member utility functions\n",
    "sim = Simulation(\n",
    "    T_step=0.1, \n",
    "    N_humans=3, \n",
    "    N_robots=1\n",
    ")"
   ]
  },
  {
   "cell_type": "markdown",
   "metadata": {},
   "source": [
    "With the simulation data loaded, the actual tracker can be loaded. The tracker is now simulated in another loop over the simulation time. The robot perceptions are just playback from the simulation log. Different Trackers can be tested by creating the tracker object from different classes."
   ]
  },
  {
   "cell_type": "code",
   "execution_count": 9,
   "metadata": {},
   "outputs": [
    {
     "name": "stderr",
     "output_type": "stream",
     "text": [
      "Simulation: 100%|██████████| 3000/3000 [00:04<00:00, 743.71it/s, Simulated time=0:04 of 0:05 hours]\n"
     ]
    }
   ],
   "source": [
    "plot = False\n",
    "record_video = False # slows down loop massively!\n",
    "\n",
    "confidentTracker = ConfidentTracker(N_robots=N_robots, include_observations=True)\n",
    "accurateTracker = AccurateTracker(N_robots=N_robots, include_observations=True, train=False)\n",
    "\n",
    "if plot: plotter = Plotter(record_frames=record_video)\n",
    "\n",
    "pbar = tqdm(range(0, len(sim_states)), desc='Simulation')\n",
    "\n",
    "simulation_time = 0\n",
    "confidentTracker_node_probabilities = []\n",
    "accurateTracker_node_probabilities = []\n",
    "for i in pbar:\n",
    "    sim_state = sim_states[i]\n",
    "\n",
    "    # outer list: robots, inner list: perceived humans for every robot\n",
    "    robot_perceptions = [{ \n",
    "        \"ego_position\": agent['ego_position'],\n",
    "        \"observable_nodes\": agent['observable_nodes'],\n",
    "        \"perceived_humans\": agent['perceived_humans'],\n",
    "    } for agent in sim_state if agent['type'] == 'robot']\n",
    "\n",
    "    confidentTracker_node_probabilities.append(confidentTracker.add_observation(robot_perceptions))\n",
    "    _ = confidentTracker.predict()\n",
    "\n",
    "    accurateTracker_node_probabilities.append(accurateTracker.add_observation(robot_perceptions))\n",
    "    _ = accurateTracker.predict()\n",
    "\n",
    "    if plot: plotter.update(sim_state, confidentTracker_node_probabilities[-1])    \n",
    "\n",
    "    pbar.set_postfix(\n",
    "        {'Simulated time': '{:d}:{:02d} of {:d}:{:02d} hours'.format(\n",
    "            int(simulation_time / 3600), \n",
    "            int(simulation_time / 60) % 60, \n",
    "            int(T_simulation / 3600), \n",
    "            int(T_simulation / 60) % 60\n",
    "        )})\n",
    "    \n",
    "    simulation_time += T_step\n",
    "\n",
    "if record_video: plotter.create_video(T_step)"
   ]
  },
  {
   "cell_type": "markdown",
   "metadata": {},
   "source": [
    "The predicted node probabilites for every node (the output of the tracker) is added to the simulation log and the updated simulation log is saved again."
   ]
  },
  {
   "cell_type": "code",
   "execution_count": 5,
   "metadata": {},
   "outputs": [],
   "source": [
    "# sim_log[\"node_probabilities\"] = node_probabilities\n",
    "# with open(filename, 'wb') as outp:\n",
    "#     pickle.dump(sim_log, outp, pickle.HIGHEST_PROTOCOL)\n",
    "\n",
    "# accurateTracker.save_trained_model()"
   ]
  },
  {
   "cell_type": "markdown",
   "metadata": {},
   "source": [
    "Now the performance of the tracker is evaluated using two performance metrics: Confidence and Accuracy. Both are defined as loss metrics, hence 0 is the optimal value and the larger the value is, the worse the metric is."
   ]
  },
  {
   "cell_type": "code",
   "execution_count": 11,
   "metadata": {},
   "outputs": [
    {
     "name": "stdout",
     "output_type": "stream",
     "text": [
      "Confidence of ConfidentTracker: 0.025406383999070803 Confidence of AccurateTracker: 0.05864315802496278\n",
      "Accuracy of ConfidentTracker: 0.004432114637548517 Accuracy of AccurateTracker: 0.005581027963325148\n",
      "[3.33333333e-04 1.00000000e+00 7.28333333e-02 2.58333333e-02\n",
      " 7.00000000e-03 1.45333333e-01 4.13333333e-02 1.88333333e-02\n",
      " 0.00000000e+00 2.71666667e-02 8.33333333e-03 0.00000000e+00\n",
      " 1.21666667e-02 1.25833333e-01 3.88333333e-02 2.66666667e-02\n",
      " 5.48333333e-02 3.38333333e-02 1.16666667e-03 0.00000000e+00\n",
      " 1.27500000e-01 1.48333333e-02 9.83333333e-03 0.00000000e+00\n",
      " 6.25000000e-02 5.66666667e-03]\n"
     ]
    }
   ],
   "source": [
    "confidentTracker_confidence = Confidence(sim_log, confidentTracker_node_probabilities).per_graph(only_count_nodes_with_no_humans=False)\n",
    "accurateTracker_confidence = Confidence(sim_log, accurateTracker_node_probabilities).per_graph(only_count_nodes_with_no_humans=False)\n",
    "print(\"Confidence of ConfidentTracker:\", confidentTracker_confidence, \n",
    "      \"Confidence of AccurateTracker:\", accurateTracker_confidence)\n",
    "confidentTracker_accuracy = Accuracy(sim_log, confidentTracker_node_probabilities).per_graph()\n",
    "accurateTracker_accuracy = Accuracy(sim_log, accurateTracker_node_probabilities).per_graph()\n",
    "print(\"Accuracy of ConfidentTracker:\", confidentTracker_accuracy, \n",
    "      \"Accuracy of AccurateTracker:\", accurateTracker_accuracy)\n",
    "print(accurateTracker.probabilities)"
   ]
  }
 ],
 "metadata": {
  "kernelspec": {
   "display_name": "venv",
   "language": "python",
   "name": "python3"
  },
  "language_info": {
   "codemirror_mode": {
    "name": "ipython",
    "version": 3
   },
   "file_extension": ".py",
   "mimetype": "text/x-python",
   "name": "python",
   "nbconvert_exporter": "python",
   "pygments_lexer": "ipython3",
   "version": "3.10.12"
  }
 },
 "nbformat": 4,
 "nbformat_minor": 2
}

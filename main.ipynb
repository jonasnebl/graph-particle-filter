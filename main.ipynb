{
 "cells": [
  {
   "cell_type": "markdown",
   "metadata": {},
   "source": [
    "# Run the tracker\n",
    "\n",
    "This jupyter notebook bundles all necessary high-level steps to train the tracker. We start with running the simulation to generate training data."
   ]
  },
  {
   "cell_type": "code",
   "execution_count": 2,
   "metadata": {},
   "outputs": [],
   "source": [
    "from tqdm import tqdm\n",
    "import pickle\n",
    "import sys\n",
    "import numpy as np\n",
    "from datetime import datetime\n",
    "import os\n",
    "sys.path.append('build/')\n",
    "import simulation\n",
    "from time import time, sleep\n",
    "from python.plotter import Plotter\n",
    "from python.GNNtracker import GNNTracker\n",
    "from python.constants import *"
   ]
  },
  {
   "cell_type": "markdown",
   "metadata": {},
   "source": [
    "Now we need to get simulation data of the warehouse. We can use the simulation to generate new simulation data. This cell is optional, we can also load old simulation data."
   ]
  },
  {
   "cell_type": "code",
   "execution_count": 8,
   "metadata": {},
   "outputs": [
    {
     "name": "stderr",
     "output_type": "stream",
     "text": [
      "Simulation: 100%|██████████| 120/120 [00:03<00:00, 35.47it/s, Simulated time=1:59 of 2:00 hours]\n"
     ]
    }
   ],
   "source": [
    "T_simulation = 60 * 60 * 2 # 1 hour\n",
    "\n",
    "sim = simulation.Simulation(\n",
    "    T_step=0.1, \n",
    "    N_humans=3, \n",
    "    N_robots=1\n",
    ")\n",
    "sim_states = []\n",
    "N_minutes = int(T_simulation / 60)\n",
    "N_hours = int(T_simulation / 3600)\n",
    "pbar = tqdm(range(0, N_minutes), desc='Simulation')\n",
    "for i in pbar:\n",
    "    sim_states += sim.step(int(60 / sim.T_step))\n",
    "    pbar.set_postfix(\n",
    "    {'Simulated time': '{:d}:{:02d} of {:d}:{:02d} hours'.format(\n",
    "        int(i / 60), \n",
    "        i % 60, \n",
    "        int(T_simulation / 3600), \n",
    "        int(T_simulation / 60) % 60\n",
    "    )})\n",
    "\n",
    "filename = os.path.join(LOG_FOLDER, 'log_' + datetime.now().strftime(\"%Y-%m-%d_%H-%M-%S\") + '.pkl')\n",
    "with open(filename, 'wb') as outp:\n",
    "    pickle.dump({\n",
    "        'T_step': sim.T_step,\n",
    "        'T_simulation': T_simulation,\n",
    "        'N_humans': sim.N_humans,\n",
    "        'N_robots': sim.N_robots,\n",
    "        'sim_states': sim_states,\n",
    "    }, outp, pickle.HIGHEST_PROTOCOL)\n",
    "    "
   ]
  },
  {
   "cell_type": "markdown",
   "metadata": {},
   "source": [
    "Now we load the generated simulation logs."
   ]
  },
  {
   "cell_type": "code",
   "execution_count": 9,
   "metadata": {},
   "outputs": [],
   "source": [
    "if \"filename\" not in locals():\n",
    "    filename = os.path.join(LOG_FOLDER, 'log_2024-08-16_20-34-51.pkl')\n",
    "with open(filename, 'rb') as f:\n",
    "    sim_log = pickle.load(f)\n",
    "sim_states = sim_log['sim_states']\n",
    "T_simulation = sim_log['T_simulation']\n",
    "T_step = sim_log['T_step']\n",
    "N_humans = sim_log['N_humans']\n",
    "N_robots = sim_log['N_robots']\n",
    "# load simulation to have access to member utility functions\n",
    "sim = simulation.Simulation(\n",
    "    T_step=0.1, \n",
    "    N_humans=3, \n",
    "    N_robots=1\n",
    ")"
   ]
  },
  {
   "cell_type": "markdown",
   "metadata": {},
   "source": [
    "Now that we have the simulation data, we can run the actual tracker."
   ]
  },
  {
   "cell_type": "code",
   "execution_count": 10,
   "metadata": {},
   "outputs": [
    {
     "name": "stderr",
     "output_type": "stream",
     "text": [
      "Simulation:  80%|████████  | 57696/72000 [01:15<00:18, 765.11it/s, Simulated time=1:36 of 2:00 hours]\n"
     ]
    },
    {
     "ename": "KeyboardInterrupt",
     "evalue": "",
     "output_type": "error",
     "traceback": [
      "\u001b[0;31m---------------------------------------------------------------------------\u001b[0m",
      "\u001b[0;31mKeyboardInterrupt\u001b[0m                         Traceback (most recent call last)",
      "Cell \u001b[0;32mIn[10], line 28\u001b[0m\n\u001b[1;32m     22\u001b[0m \u001b[38;5;66;03m# outer list: robots, inner list: perceived humans for every robot\u001b[39;00m\n\u001b[1;32m     23\u001b[0m robot_perceptions \u001b[38;5;241m=\u001b[39m [{ \n\u001b[1;32m     24\u001b[0m     \u001b[38;5;124m\"\u001b[39m\u001b[38;5;124mego_position\u001b[39m\u001b[38;5;124m\"\u001b[39m: agent[\u001b[38;5;124m'\u001b[39m\u001b[38;5;124mego_position\u001b[39m\u001b[38;5;124m'\u001b[39m],\n\u001b[1;32m     25\u001b[0m     \u001b[38;5;124m\"\u001b[39m\u001b[38;5;124mperceived_humans\u001b[39m\u001b[38;5;124m\"\u001b[39m: agent[\u001b[38;5;124m'\u001b[39m\u001b[38;5;124mperceived_humans\u001b[39m\u001b[38;5;124m'\u001b[39m] \n\u001b[1;32m     26\u001b[0m } \u001b[38;5;28;01mfor\u001b[39;00m agent \u001b[38;5;129;01min\u001b[39;00m sim_state \u001b[38;5;28;01mif\u001b[39;00m agent[\u001b[38;5;124m'\u001b[39m\u001b[38;5;124mtype\u001b[39m\u001b[38;5;124m'\u001b[39m] \u001b[38;5;241m==\u001b[39m \u001b[38;5;124m'\u001b[39m\u001b[38;5;124mrobot\u001b[39m\u001b[38;5;124m'\u001b[39m]\n\u001b[0;32m---> 28\u001b[0m \u001b[43mtracker\u001b[49m\u001b[38;5;241;43m.\u001b[39;49m\u001b[43madd_observation\u001b[49m\u001b[43m(\u001b[49m\u001b[43mrobot_perceptions\u001b[49m\u001b[43m)\u001b[49m\n\u001b[1;32m     29\u001b[0m node_probabilities \u001b[38;5;241m=\u001b[39m tracker\u001b[38;5;241m.\u001b[39mpredict()\n\u001b[1;32m     31\u001b[0m \u001b[38;5;28;01mif\u001b[39;00m plot: plotter\u001b[38;5;241m.\u001b[39mupdate(sim_state, node_probabilities)    \n",
      "File \u001b[0;32m~/WarehouseSim/python/GNNtracker.py:25\u001b[0m, in \u001b[0;36mGNNTracker.add_observation\u001b[0;34m(self, robot_perceptions)\u001b[0m\n\u001b[1;32m     23\u001b[0m robot_position \u001b[38;5;241m=\u001b[39m robot_perception[\u001b[38;5;124m'\u001b[39m\u001b[38;5;124mego_position\u001b[39m\u001b[38;5;124m'\u001b[39m]\n\u001b[1;32m     24\u001b[0m perceived_humans \u001b[38;5;241m=\u001b[39m robot_perception[\u001b[38;5;124m'\u001b[39m\u001b[38;5;124mperceived_humans\u001b[39m\u001b[38;5;124m'\u001b[39m]\n\u001b[0;32m---> 25\u001b[0m extended_perceptions \u001b[38;5;241m=\u001b[39m \u001b[38;5;28;43mself\u001b[39;49m\u001b[38;5;241;43m.\u001b[39;49m\u001b[43mextend_perception\u001b[49m\u001b[43m(\u001b[49m\n\u001b[1;32m     26\u001b[0m \u001b[43m    \u001b[49m\u001b[43mrobot_position\u001b[49m\u001b[43m,\u001b[49m\u001b[43m \u001b[49m\n\u001b[1;32m     27\u001b[0m \u001b[43m    \u001b[49m\u001b[43m[\u001b[49m\u001b[43mperceived_human\u001b[49m\u001b[43m[\u001b[49m\u001b[38;5;124;43m\"\u001b[39;49m\u001b[38;5;124;43mpos_mean\u001b[39;49m\u001b[38;5;124;43m\"\u001b[39;49m\u001b[43m]\u001b[49m\u001b[43m \u001b[49m\u001b[38;5;28;43;01mfor\u001b[39;49;00m\u001b[43m \u001b[49m\u001b[43mperceived_human\u001b[49m\u001b[43m \u001b[49m\u001b[38;5;129;43;01min\u001b[39;49;00m\u001b[43m \u001b[49m\u001b[43mperceived_humans\u001b[49m\u001b[43m]\u001b[49m\u001b[43m)\u001b[49m\n",
      "\u001b[0;31mKeyboardInterrupt\u001b[0m: "
     ]
    }
   ],
   "source": [
    "plot = False\n",
    "record_video = False\n",
    "realtime = False\n",
    "\n",
    "tracker = GNNTracker(\n",
    "    T_step=T_step,\n",
    "    train=False,\n",
    "    # use extend_perception implemented in simulation class with C++ for speedup\n",
    "    extend_perception=sim.extend_perception \n",
    ")\n",
    "\n",
    "if plot: plotter = Plotter(record_frames=record_video)\n",
    "\n",
    "pbar = tqdm(range(0, len(sim_states)), desc='Simulation')\n",
    "\n",
    "simulation_time = 0\n",
    "node_probabilities = []\n",
    "for i in pbar:\n",
    "    start = time()\n",
    "\n",
    "    sim_state = sim_states[i]\n",
    "\n",
    "    # outer list: robots, inner list: perceived humans for every robot\n",
    "    robot_perceptions = [{ \n",
    "        \"ego_position\": agent['ego_position'],\n",
    "        \"perceived_humans\": agent['perceived_humans'] \n",
    "    } for agent in sim_state if agent['type'] == 'robot']\n",
    "\n",
    "    tracker.add_observation(robot_perceptions)\n",
    "    node_probabilities.append(tracker.predict())\n",
    "\n",
    "    if plot: plotter.update(sim_state, node_probabilities[-1])    \n",
    "    \n",
    "    if realtime: sleep(max(0, T_step - (time() - start)))\n",
    "\n",
    "    pbar.set_postfix(\n",
    "        {'Simulated time': '{:d}:{:02d} of {:d}:{:02d} hours'.format(\n",
    "            int(simulation_time / 3600), \n",
    "            int(simulation_time / 60) % 60, \n",
    "            int(T_simulation / 3600), \n",
    "            int(T_simulation / 60) % 60\n",
    "        )})\n",
    "    \n",
    "    simulation_time += T_step\n",
    "\n",
    "if record_video: plotter.create_video(T_step)"
   ]
  },
  {
   "cell_type": "markdown",
   "metadata": {},
   "source": [
    "Now we can add the calculated node probabilites to the simulation log and save it again."
   ]
  },
  {
   "cell_type": "code",
   "execution_count": null,
   "metadata": {},
   "outputs": [],
   "source": [
    "sim_log[\"node_probabilities\"] = node_probabilities\n",
    "with open(os.path.join(LOG_FOLDER, filename), 'wb') as outp:\n",
    "    pickle.dump(sim_log, outp, pickle.HIGHEST_PROTOCOL)"
   ]
  },
  {
   "cell_type": "markdown",
   "metadata": {},
   "source": [
    "Now we can benchmark the performance of our tracker."
   ]
  },
  {
   "cell_type": "code",
   "execution_count": null,
   "metadata": {},
   "outputs": [],
   "source": [
    "# TODO"
   ]
  }
 ],
 "metadata": {
  "kernelspec": {
   "display_name": "venv",
   "language": "python",
   "name": "python3"
  },
  "language_info": {
   "codemirror_mode": {
    "name": "ipython",
    "version": 3
   },
   "file_extension": ".py",
   "mimetype": "text/x-python",
   "name": "python",
   "nbconvert_exporter": "python",
   "pygments_lexer": "ipython3",
   "version": "3.10.12"
  }
 },
 "nbformat": 4,
 "nbformat_minor": 2
}
